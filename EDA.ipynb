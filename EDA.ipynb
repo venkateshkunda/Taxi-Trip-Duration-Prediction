{
 "cells": [
  {
   "cell_type": "code",
   "execution_count": 1,
   "metadata": {},
   "outputs": [],
   "source": [
    "import numpy as np\n",
    "import pandas as pd\n",
    "import seaborn as sns\n",
    "import matplotlib.pyplot as plt\n",
    "import datetime as dt\n",
    "from sklearn.linear_model import LinearRegression\n",
    "from sklearn.ensemble import RandomForestRegressor\n",
    "from xgboost import XGBRegressor\n",
    "from sklearn import metrics\n",
    "from sklearn.model_selection import train_test_split, GridSearchCV\n",
    "from haversine import haversine\n",
    "import statsmodels.formula.api as sm\n",
    "from sklearn.model_selection import learning_curve\n",
    "from sklearn.model_selection import ShuffleSplit\n",
    "import warnings; warnings.simplefilter('ignore')"
   ]
  },
  {
   "cell_type": "code",
   "execution_count": 6,
   "metadata": {},
   "outputs": [],
   "source": [
    "#import the data from a csv file.\n",
    "data = pd.read_csv(\"Train.csv\")"
   ]
  },
  {
   "cell_type": "code",
   "execution_count": 7,
   "metadata": {
    "scrolled": true
   },
   "outputs": [
    {
     "data": {
      "text/html": [
       "<div>\n",
       "<style scoped>\n",
       "    .dataframe tbody tr th:only-of-type {\n",
       "        vertical-align: middle;\n",
       "    }\n",
       "\n",
       "    .dataframe tbody tr th {\n",
       "        vertical-align: top;\n",
       "    }\n",
       "\n",
       "    .dataframe thead th {\n",
       "        text-align: right;\n",
       "    }\n",
       "</style>\n",
       "<table border=\"1\" class=\"dataframe\">\n",
       "  <thead>\n",
       "    <tr style=\"text-align: right;\">\n",
       "      <th></th>\n",
       "      <th>pickup_datetime</th>\n",
       "      <th>duration</th>\n",
       "      <th>pickup_x</th>\n",
       "      <th>pickup_y</th>\n",
       "      <th>dropoff_x</th>\n",
       "      <th>dropoff_y</th>\n",
       "    </tr>\n",
       "  </thead>\n",
       "  <tbody>\n",
       "    <tr>\n",
       "      <th>0</th>\n",
       "      <td>2034-02-02 22:43:13</td>\n",
       "      <td>690</td>\n",
       "      <td>154.696567</td>\n",
       "      <td>325.477213</td>\n",
       "      <td>126.881573</td>\n",
       "      <td>322.211870</td>\n",
       "    </tr>\n",
       "    <tr>\n",
       "      <th>1</th>\n",
       "      <td>2034-01-30 16:30:13</td>\n",
       "      <td>399</td>\n",
       "      <td>160.754531</td>\n",
       "      <td>337.409138</td>\n",
       "      <td>156.181906</td>\n",
       "      <td>344.564970</td>\n",
       "    </tr>\n",
       "    <tr>\n",
       "      <th>2</th>\n",
       "      <td>2034-03-26 17:11:42</td>\n",
       "      <td>715</td>\n",
       "      <td>144.344672</td>\n",
       "      <td>330.828932</td>\n",
       "      <td>168.868622</td>\n",
       "      <td>372.795481</td>\n",
       "    </tr>\n",
       "    <tr>\n",
       "      <th>3</th>\n",
       "      <td>2034-03-07 23:45:27</td>\n",
       "      <td>566</td>\n",
       "      <td>122.749169</td>\n",
       "      <td>439.668599</td>\n",
       "      <td>131.837488</td>\n",
       "      <td>350.767551</td>\n",
       "    </tr>\n",
       "    <tr>\n",
       "      <th>4</th>\n",
       "      <td>2034-05-27 20:09:32</td>\n",
       "      <td>1565</td>\n",
       "      <td>184.348606</td>\n",
       "      <td>398.135385</td>\n",
       "      <td>104.896974</td>\n",
       "      <td>332.185639</td>\n",
       "    </tr>\n",
       "  </tbody>\n",
       "</table>\n",
       "</div>"
      ],
      "text/plain": [
       "       pickup_datetime  duration    pickup_x    pickup_y   dropoff_x  \\\n",
       "0  2034-02-02 22:43:13       690  154.696567  325.477213  126.881573   \n",
       "1  2034-01-30 16:30:13       399  160.754531  337.409138  156.181906   \n",
       "2  2034-03-26 17:11:42       715  144.344672  330.828932  168.868622   \n",
       "3  2034-03-07 23:45:27       566  122.749169  439.668599  131.837488   \n",
       "4  2034-05-27 20:09:32      1565  184.348606  398.135385  104.896974   \n",
       "\n",
       "    dropoff_y  \n",
       "0  322.211870  \n",
       "1  344.564970  \n",
       "2  372.795481  \n",
       "3  350.767551  \n",
       "4  332.185639  "
      ]
     },
     "execution_count": 7,
     "metadata": {},
     "output_type": "execute_result"
    }
   ],
   "source": [
    "data.head(5)"
   ]
  },
  {
   "cell_type": "code",
   "execution_count": 8,
   "metadata": {},
   "outputs": [],
   "source": [
    "data = data[data.duration != 0]"
   ]
  },
  {
   "cell_type": "code",
   "execution_count": 9,
   "metadata": {},
   "outputs": [],
   "source": [
    "columns = [\"pickup_datetime\", \"duration\" ,\"pickup_x\" ,\"pickup_y\" ,\"dropoff_x\" ,\"dropoff_y\"]\n",
    "data = data[columns]"
   ]
  },
  {
   "cell_type": "code",
   "execution_count": 10,
   "metadata": {},
   "outputs": [
    {
     "data": {
      "text/plain": [
       "(1299993, 6)"
      ]
     },
     "execution_count": 10,
     "metadata": {},
     "output_type": "execute_result"
    }
   ],
   "source": [
    "data.shape"
   ]
  },
  {
   "cell_type": "code",
   "execution_count": 11,
   "metadata": {},
   "outputs": [
    {
     "data": {
      "text/plain": [
       "pickup_datetime    0\n",
       "duration           0\n",
       "pickup_x           0\n",
       "pickup_y           0\n",
       "dropoff_x          0\n",
       "dropoff_y          0\n",
       "dtype: int64"
      ]
     },
     "execution_count": 11,
     "metadata": {},
     "output_type": "execute_result"
    }
   ],
   "source": [
    "data.isna().sum()"
   ]
  },
  {
   "cell_type": "code",
   "execution_count": 12,
   "metadata": {},
   "outputs": [
    {
     "data": {
      "text/plain": [
       "0   2034-02-02 22:43:13\n",
       "1   2034-01-30 16:30:13\n",
       "2   2034-03-26 17:11:42\n",
       "3   2034-03-07 23:45:27\n",
       "4   2034-05-27 20:09:32\n",
       "Name: pickup_datetime, dtype: datetime64[ns]"
      ]
     },
     "execution_count": 12,
     "metadata": {},
     "output_type": "execute_result"
    }
   ],
   "source": [
    "#Convert timestamp to datetime format to fetch the other details as listed below\n",
    "data['pickup_datetime'] = pd.to_datetime(data['pickup_datetime'])\n",
    "data['pickup_datetime'].head()"
   ]
  },
  {
   "cell_type": "code",
   "execution_count": 13,
   "metadata": {},
   "outputs": [],
   "source": [
    "#Calculate and assign new columns to the dataframe such as weekday,\n",
    "#month and pickup_hour which will help us to gain more insights from the data.\n",
    "data['weekday'] = data.pickup_datetime.dt.weekday_name\n",
    "data['month'] = data.pickup_datetime.dt.month\n",
    "data['weekday_num'] = data.pickup_datetime.dt.weekday\n",
    "data['pickup_hour'] = data.pickup_datetime.dt.hour"
   ]
  },
  {
   "cell_type": "code",
   "execution_count": 14,
   "metadata": {},
   "outputs": [
    {
     "data": {
      "text/html": [
       "<div>\n",
       "<style scoped>\n",
       "    .dataframe tbody tr th:only-of-type {\n",
       "        vertical-align: middle;\n",
       "    }\n",
       "\n",
       "    .dataframe tbody tr th {\n",
       "        vertical-align: top;\n",
       "    }\n",
       "\n",
       "    .dataframe thead th {\n",
       "        text-align: right;\n",
       "    }\n",
       "</style>\n",
       "<table border=\"1\" class=\"dataframe\">\n",
       "  <thead>\n",
       "    <tr style=\"text-align: right;\">\n",
       "      <th></th>\n",
       "      <th>pickup_datetime</th>\n",
       "      <th>duration</th>\n",
       "      <th>pickup_x</th>\n",
       "      <th>pickup_y</th>\n",
       "      <th>dropoff_x</th>\n",
       "      <th>dropoff_y</th>\n",
       "      <th>weekday</th>\n",
       "      <th>month</th>\n",
       "      <th>weekday_num</th>\n",
       "      <th>pickup_hour</th>\n",
       "    </tr>\n",
       "  </thead>\n",
       "  <tbody>\n",
       "    <tr>\n",
       "      <th>0</th>\n",
       "      <td>2034-02-02 22:43:13</td>\n",
       "      <td>690</td>\n",
       "      <td>154.696567</td>\n",
       "      <td>325.477213</td>\n",
       "      <td>126.881573</td>\n",
       "      <td>322.211870</td>\n",
       "      <td>Thursday</td>\n",
       "      <td>2</td>\n",
       "      <td>3</td>\n",
       "      <td>22</td>\n",
       "    </tr>\n",
       "    <tr>\n",
       "      <th>1</th>\n",
       "      <td>2034-01-30 16:30:13</td>\n",
       "      <td>399</td>\n",
       "      <td>160.754531</td>\n",
       "      <td>337.409138</td>\n",
       "      <td>156.181906</td>\n",
       "      <td>344.564970</td>\n",
       "      <td>Monday</td>\n",
       "      <td>1</td>\n",
       "      <td>0</td>\n",
       "      <td>16</td>\n",
       "    </tr>\n",
       "    <tr>\n",
       "      <th>2</th>\n",
       "      <td>2034-03-26 17:11:42</td>\n",
       "      <td>715</td>\n",
       "      <td>144.344672</td>\n",
       "      <td>330.828932</td>\n",
       "      <td>168.868622</td>\n",
       "      <td>372.795481</td>\n",
       "      <td>Sunday</td>\n",
       "      <td>3</td>\n",
       "      <td>6</td>\n",
       "      <td>17</td>\n",
       "    </tr>\n",
       "    <tr>\n",
       "      <th>3</th>\n",
       "      <td>2034-03-07 23:45:27</td>\n",
       "      <td>566</td>\n",
       "      <td>122.749169</td>\n",
       "      <td>439.668599</td>\n",
       "      <td>131.837488</td>\n",
       "      <td>350.767551</td>\n",
       "      <td>Tuesday</td>\n",
       "      <td>3</td>\n",
       "      <td>1</td>\n",
       "      <td>23</td>\n",
       "    </tr>\n",
       "    <tr>\n",
       "      <th>4</th>\n",
       "      <td>2034-05-27 20:09:32</td>\n",
       "      <td>1565</td>\n",
       "      <td>184.348606</td>\n",
       "      <td>398.135385</td>\n",
       "      <td>104.896974</td>\n",
       "      <td>332.185639</td>\n",
       "      <td>Saturday</td>\n",
       "      <td>5</td>\n",
       "      <td>5</td>\n",
       "      <td>20</td>\n",
       "    </tr>\n",
       "  </tbody>\n",
       "</table>\n",
       "</div>"
      ],
      "text/plain": [
       "      pickup_datetime  duration    pickup_x    pickup_y   dropoff_x  \\\n",
       "0 2034-02-02 22:43:13       690  154.696567  325.477213  126.881573   \n",
       "1 2034-01-30 16:30:13       399  160.754531  337.409138  156.181906   \n",
       "2 2034-03-26 17:11:42       715  144.344672  330.828932  168.868622   \n",
       "3 2034-03-07 23:45:27       566  122.749169  439.668599  131.837488   \n",
       "4 2034-05-27 20:09:32      1565  184.348606  398.135385  104.896974   \n",
       "\n",
       "    dropoff_y   weekday  month  weekday_num  pickup_hour  \n",
       "0  322.211870  Thursday      2            3           22  \n",
       "1  344.564970    Monday      1            0           16  \n",
       "2  372.795481    Sunday      3            6           17  \n",
       "3  350.767551   Tuesday      3            1           23  \n",
       "4  332.185639  Saturday      5            5           20  "
      ]
     },
     "execution_count": 14,
     "metadata": {},
     "output_type": "execute_result"
    }
   ],
   "source": [
    "data.head()"
   ]
  },
  {
   "cell_type": "code",
   "execution_count": 15,
   "metadata": {},
   "outputs": [
    {
     "data": {
      "text/plain": [
       "array(['Thursday', 'Monday', 'Sunday', 'Tuesday', 'Saturday', 'Friday',\n",
       "       'Wednesday'], dtype=object)"
      ]
     },
     "execution_count": 15,
     "metadata": {},
     "output_type": "execute_result"
    }
   ],
   "source": [
    "data['weekday'].unique()"
   ]
  },
  {
   "cell_type": "code",
   "execution_count": 16,
   "metadata": {},
   "outputs": [],
   "source": [
    "#calc_distance is a function to calculate distance between pickup and dropoff coordinates using Haversine formula.\n",
    "def calc_distance(df):\n",
    "    pickup = (df['pickup_x'], df['pickup_y'])\n",
    "    drop = (df['dropoff_x'], df['dropoff_y'])\n",
    "    return haversine(pickup, drop)"
   ]
  },
  {
   "cell_type": "code",
   "execution_count": 17,
   "metadata": {},
   "outputs": [],
   "source": [
    "#Calculate distance and assign new column to the dataframe.\n",
    "data['distance'] = data.apply(lambda x: calc_distance(x), axis = 1)"
   ]
  },
  {
   "cell_type": "code",
   "execution_count": 18,
   "metadata": {},
   "outputs": [],
   "source": [
    "#Calculate Speed in km/h for further insights\n",
    "data['speed'] = (data.distance/(data.duration))"
   ]
  },
  {
   "cell_type": "code",
   "execution_count": 19,
   "metadata": {},
   "outputs": [
    {
     "data": {
      "text/html": [
       "<div>\n",
       "<style scoped>\n",
       "    .dataframe tbody tr th:only-of-type {\n",
       "        vertical-align: middle;\n",
       "    }\n",
       "\n",
       "    .dataframe tbody tr th {\n",
       "        vertical-align: top;\n",
       "    }\n",
       "\n",
       "    .dataframe thead th {\n",
       "        text-align: right;\n",
       "    }\n",
       "</style>\n",
       "<table border=\"1\" class=\"dataframe\">\n",
       "  <thead>\n",
       "    <tr style=\"text-align: right;\">\n",
       "      <th></th>\n",
       "      <th>index</th>\n",
       "      <th>0</th>\n",
       "    </tr>\n",
       "  </thead>\n",
       "  <tbody>\n",
       "    <tr>\n",
       "      <th>0</th>\n",
       "      <td>pickup_datetime</td>\n",
       "      <td>datetime64[ns]</td>\n",
       "    </tr>\n",
       "    <tr>\n",
       "      <th>1</th>\n",
       "      <td>duration</td>\n",
       "      <td>int64</td>\n",
       "    </tr>\n",
       "    <tr>\n",
       "      <th>2</th>\n",
       "      <td>pickup_x</td>\n",
       "      <td>float64</td>\n",
       "    </tr>\n",
       "    <tr>\n",
       "      <th>3</th>\n",
       "      <td>pickup_y</td>\n",
       "      <td>float64</td>\n",
       "    </tr>\n",
       "    <tr>\n",
       "      <th>4</th>\n",
       "      <td>dropoff_x</td>\n",
       "      <td>float64</td>\n",
       "    </tr>\n",
       "    <tr>\n",
       "      <th>5</th>\n",
       "      <td>dropoff_y</td>\n",
       "      <td>float64</td>\n",
       "    </tr>\n",
       "    <tr>\n",
       "      <th>6</th>\n",
       "      <td>weekday</td>\n",
       "      <td>object</td>\n",
       "    </tr>\n",
       "    <tr>\n",
       "      <th>7</th>\n",
       "      <td>month</td>\n",
       "      <td>int64</td>\n",
       "    </tr>\n",
       "    <tr>\n",
       "      <th>8</th>\n",
       "      <td>weekday_num</td>\n",
       "      <td>int64</td>\n",
       "    </tr>\n",
       "    <tr>\n",
       "      <th>9</th>\n",
       "      <td>pickup_hour</td>\n",
       "      <td>int64</td>\n",
       "    </tr>\n",
       "    <tr>\n",
       "      <th>10</th>\n",
       "      <td>distance</td>\n",
       "      <td>float64</td>\n",
       "    </tr>\n",
       "    <tr>\n",
       "      <th>11</th>\n",
       "      <td>speed</td>\n",
       "      <td>float64</td>\n",
       "    </tr>\n",
       "  </tbody>\n",
       "</table>\n",
       "</div>"
      ],
      "text/plain": [
       "              index               0\n",
       "0   pickup_datetime  datetime64[ns]\n",
       "1          duration           int64\n",
       "2          pickup_x         float64\n",
       "3          pickup_y         float64\n",
       "4         dropoff_x         float64\n",
       "5         dropoff_y         float64\n",
       "6           weekday          object\n",
       "7             month           int64\n",
       "8       weekday_num           int64\n",
       "9       pickup_hour           int64\n",
       "10         distance         float64\n",
       "11            speed         float64"
      ]
     },
     "execution_count": 19,
     "metadata": {},
     "output_type": "execute_result"
    }
   ],
   "source": [
    "#Check the type of each variable\n",
    "data.dtypes.reset_index()"
   ]
  },
  {
   "cell_type": "code",
   "execution_count": 20,
   "metadata": {
    "scrolled": true
   },
   "outputs": [
    {
     "data": {
      "text/html": [
       "<div>\n",
       "<style scoped>\n",
       "    .dataframe tbody tr th:only-of-type {\n",
       "        vertical-align: middle;\n",
       "    }\n",
       "\n",
       "    .dataframe tbody tr th {\n",
       "        vertical-align: top;\n",
       "    }\n",
       "\n",
       "    .dataframe thead th {\n",
       "        text-align: right;\n",
       "    }\n",
       "</style>\n",
       "<table border=\"1\" class=\"dataframe\">\n",
       "  <thead>\n",
       "    <tr style=\"text-align: right;\">\n",
       "      <th></th>\n",
       "      <th>pickup_datetime</th>\n",
       "      <th>duration</th>\n",
       "      <th>pickup_x</th>\n",
       "      <th>pickup_y</th>\n",
       "      <th>dropoff_x</th>\n",
       "      <th>dropoff_y</th>\n",
       "      <th>weekday</th>\n",
       "      <th>month</th>\n",
       "      <th>weekday_num</th>\n",
       "      <th>pickup_hour</th>\n",
       "      <th>distance</th>\n",
       "      <th>speed</th>\n",
       "    </tr>\n",
       "  </thead>\n",
       "  <tbody>\n",
       "    <tr>\n",
       "      <th>0</th>\n",
       "      <td>2034-02-02 22:43:13</td>\n",
       "      <td>690</td>\n",
       "      <td>154.696567</td>\n",
       "      <td>325.477213</td>\n",
       "      <td>126.881573</td>\n",
       "      <td>322.211870</td>\n",
       "      <td>Thursday</td>\n",
       "      <td>2</td>\n",
       "      <td>3</td>\n",
       "      <td>22</td>\n",
       "      <td>3104.896536</td>\n",
       "      <td>4.499850</td>\n",
       "    </tr>\n",
       "    <tr>\n",
       "      <th>1</th>\n",
       "      <td>2034-01-30 16:30:13</td>\n",
       "      <td>399</td>\n",
       "      <td>160.754531</td>\n",
       "      <td>337.409138</td>\n",
       "      <td>156.181906</td>\n",
       "      <td>344.564970</td>\n",
       "      <td>Monday</td>\n",
       "      <td>1</td>\n",
       "      <td>0</td>\n",
       "      <td>16</td>\n",
       "      <td>897.689508</td>\n",
       "      <td>2.249848</td>\n",
       "    </tr>\n",
       "    <tr>\n",
       "      <th>2</th>\n",
       "      <td>2034-03-26 17:11:42</td>\n",
       "      <td>715</td>\n",
       "      <td>144.344672</td>\n",
       "      <td>330.828932</td>\n",
       "      <td>168.868622</td>\n",
       "      <td>372.795481</td>\n",
       "      <td>Sunday</td>\n",
       "      <td>3</td>\n",
       "      <td>6</td>\n",
       "      <td>17</td>\n",
       "      <td>5019.849155</td>\n",
       "      <td>7.020768</td>\n",
       "    </tr>\n",
       "    <tr>\n",
       "      <th>3</th>\n",
       "      <td>2034-03-07 23:45:27</td>\n",
       "      <td>566</td>\n",
       "      <td>122.749169</td>\n",
       "      <td>439.668599</td>\n",
       "      <td>131.837488</td>\n",
       "      <td>350.767551</td>\n",
       "      <td>Tuesday</td>\n",
       "      <td>3</td>\n",
       "      <td>1</td>\n",
       "      <td>23</td>\n",
       "      <td>5636.331507</td>\n",
       "      <td>9.958183</td>\n",
       "    </tr>\n",
       "    <tr>\n",
       "      <th>4</th>\n",
       "      <td>2034-05-27 20:09:32</td>\n",
       "      <td>1565</td>\n",
       "      <td>184.348606</td>\n",
       "      <td>398.135385</td>\n",
       "      <td>104.896974</td>\n",
       "      <td>332.185639</td>\n",
       "      <td>Saturday</td>\n",
       "      <td>5</td>\n",
       "      <td>5</td>\n",
       "      <td>20</td>\n",
       "      <td>9808.795722</td>\n",
       "      <td>6.267601</td>\n",
       "    </tr>\n",
       "  </tbody>\n",
       "</table>\n",
       "</div>"
      ],
      "text/plain": [
       "      pickup_datetime  duration    pickup_x    pickup_y   dropoff_x  \\\n",
       "0 2034-02-02 22:43:13       690  154.696567  325.477213  126.881573   \n",
       "1 2034-01-30 16:30:13       399  160.754531  337.409138  156.181906   \n",
       "2 2034-03-26 17:11:42       715  144.344672  330.828932  168.868622   \n",
       "3 2034-03-07 23:45:27       566  122.749169  439.668599  131.837488   \n",
       "4 2034-05-27 20:09:32      1565  184.348606  398.135385  104.896974   \n",
       "\n",
       "    dropoff_y   weekday  month  weekday_num  pickup_hour     distance  \\\n",
       "0  322.211870  Thursday      2            3           22  3104.896536   \n",
       "1  344.564970    Monday      1            0           16   897.689508   \n",
       "2  372.795481    Sunday      3            6           17  5019.849155   \n",
       "3  350.767551   Tuesday      3            1           23  5636.331507   \n",
       "4  332.185639  Saturday      5            5           20  9808.795722   \n",
       "\n",
       "      speed  \n",
       "0  4.499850  \n",
       "1  2.249848  \n",
       "2  7.020768  \n",
       "3  9.958183  \n",
       "4  6.267601  "
      ]
     },
     "execution_count": 20,
     "metadata": {},
     "output_type": "execute_result"
    }
   ],
   "source": [
    "data.head()"
   ]
  },
  {
   "cell_type": "code",
   "execution_count": 21,
   "metadata": {},
   "outputs": [],
   "source": [
    "data[['month', 'weekday_num', 'pickup_hour']] = data[['month', 'weekday_num', 'pickup_hour']].astype(str)"
   ]
  },
  {
   "cell_type": "code",
   "execution_count": 22,
   "metadata": {},
   "outputs": [
    {
     "data": {
      "text/html": [
       "<div>\n",
       "<style scoped>\n",
       "    .dataframe tbody tr th:only-of-type {\n",
       "        vertical-align: middle;\n",
       "    }\n",
       "\n",
       "    .dataframe tbody tr th {\n",
       "        vertical-align: top;\n",
       "    }\n",
       "\n",
       "    .dataframe thead th {\n",
       "        text-align: right;\n",
       "    }\n",
       "</style>\n",
       "<table border=\"1\" class=\"dataframe\">\n",
       "  <thead>\n",
       "    <tr style=\"text-align: right;\">\n",
       "      <th></th>\n",
       "      <th>index</th>\n",
       "      <th>0</th>\n",
       "    </tr>\n",
       "  </thead>\n",
       "  <tbody>\n",
       "    <tr>\n",
       "      <th>0</th>\n",
       "      <td>pickup_datetime</td>\n",
       "      <td>datetime64[ns]</td>\n",
       "    </tr>\n",
       "    <tr>\n",
       "      <th>1</th>\n",
       "      <td>duration</td>\n",
       "      <td>int64</td>\n",
       "    </tr>\n",
       "    <tr>\n",
       "      <th>2</th>\n",
       "      <td>pickup_x</td>\n",
       "      <td>float64</td>\n",
       "    </tr>\n",
       "    <tr>\n",
       "      <th>3</th>\n",
       "      <td>pickup_y</td>\n",
       "      <td>float64</td>\n",
       "    </tr>\n",
       "    <tr>\n",
       "      <th>4</th>\n",
       "      <td>dropoff_x</td>\n",
       "      <td>float64</td>\n",
       "    </tr>\n",
       "    <tr>\n",
       "      <th>5</th>\n",
       "      <td>dropoff_y</td>\n",
       "      <td>float64</td>\n",
       "    </tr>\n",
       "    <tr>\n",
       "      <th>6</th>\n",
       "      <td>weekday</td>\n",
       "      <td>object</td>\n",
       "    </tr>\n",
       "    <tr>\n",
       "      <th>7</th>\n",
       "      <td>month</td>\n",
       "      <td>object</td>\n",
       "    </tr>\n",
       "    <tr>\n",
       "      <th>8</th>\n",
       "      <td>weekday_num</td>\n",
       "      <td>object</td>\n",
       "    </tr>\n",
       "    <tr>\n",
       "      <th>9</th>\n",
       "      <td>pickup_hour</td>\n",
       "      <td>object</td>\n",
       "    </tr>\n",
       "    <tr>\n",
       "      <th>10</th>\n",
       "      <td>distance</td>\n",
       "      <td>float64</td>\n",
       "    </tr>\n",
       "    <tr>\n",
       "      <th>11</th>\n",
       "      <td>speed</td>\n",
       "      <td>float64</td>\n",
       "    </tr>\n",
       "  </tbody>\n",
       "</table>\n",
       "</div>"
      ],
      "text/plain": [
       "              index               0\n",
       "0   pickup_datetime  datetime64[ns]\n",
       "1          duration           int64\n",
       "2          pickup_x         float64\n",
       "3          pickup_y         float64\n",
       "4         dropoff_x         float64\n",
       "5         dropoff_y         float64\n",
       "6           weekday          object\n",
       "7             month          object\n",
       "8       weekday_num          object\n",
       "9       pickup_hour          object\n",
       "10         distance         float64\n",
       "11            speed         float64"
      ]
     },
     "execution_count": 22,
     "metadata": {},
     "output_type": "execute_result"
    }
   ],
   "source": [
    "#Check the type of each variable\n",
    "data.dtypes.reset_index()"
   ]
  },
  {
   "cell_type": "code",
   "execution_count": 23,
   "metadata": {},
   "outputs": [],
   "source": [
    "dummy = pd.get_dummies(data.month, prefix='month')\n",
    "dummy.drop(dummy.columns[0], axis=1, inplace=True) #avoid dummy trap\n",
    "data = pd.concat([data,dummy], axis = 1)\n",
    "\n",
    "dummy = pd.get_dummies(data.weekday_num, prefix='weekday_num')\n",
    "dummy.drop(dummy.columns[0], axis=1, inplace=True) #avoid dummy trap\n",
    "data = pd.concat([data,dummy], axis = 1)\n",
    "\n",
    "dummy = pd.get_dummies(data.pickup_hour, prefix='pickup_hour')\n",
    "dummy.drop(dummy.columns[0], axis=1, inplace=True) #avoid dummy trap\n",
    "data = pd.concat([data,dummy], axis = 1)"
   ]
  },
  {
   "cell_type": "code",
   "execution_count": 24,
   "metadata": {},
   "outputs": [
    {
     "data": {
      "text/plain": [
       "Index(['pickup_datetime', 'duration', 'pickup_x', 'pickup_y', 'dropoff_x',\n",
       "       'dropoff_y', 'weekday', 'month', 'weekday_num', 'pickup_hour',\n",
       "       'distance', 'speed', 'month_2', 'month_3', 'month_4', 'month_5',\n",
       "       'month_6', 'month_7', 'weekday_num_1', 'weekday_num_2', 'weekday_num_3',\n",
       "       'weekday_num_4', 'weekday_num_5', 'weekday_num_6', 'pickup_hour_1',\n",
       "       'pickup_hour_10', 'pickup_hour_11', 'pickup_hour_12', 'pickup_hour_13',\n",
       "       'pickup_hour_14', 'pickup_hour_15', 'pickup_hour_16', 'pickup_hour_17',\n",
       "       'pickup_hour_18', 'pickup_hour_19', 'pickup_hour_2', 'pickup_hour_20',\n",
       "       'pickup_hour_21', 'pickup_hour_22', 'pickup_hour_23', 'pickup_hour_3',\n",
       "       'pickup_hour_4', 'pickup_hour_5', 'pickup_hour_6', 'pickup_hour_7',\n",
       "       'pickup_hour_8', 'pickup_hour_9'],\n",
       "      dtype='object')"
      ]
     },
     "execution_count": 24,
     "metadata": {},
     "output_type": "execute_result"
    }
   ],
   "source": [
    "data.columns"
   ]
  },
  {
   "cell_type": "code",
   "execution_count": 25,
   "metadata": {},
   "outputs": [
    {
     "data": {
      "text/plain": [
       "count    1.299993e+06\n",
       "mean     3.040052e+03\n",
       "std      2.667934e+03\n",
       "min      6.379998e-01\n",
       "25%      1.282043e+03\n",
       "50%      2.155056e+03\n",
       "75%      3.788486e+03\n",
       "max      1.995999e+04\n",
       "Name: distance, dtype: float64"
      ]
     },
     "execution_count": 25,
     "metadata": {},
     "output_type": "execute_result"
    }
   ],
   "source": [
    "data['distance'].describe()"
   ]
  },
  {
   "cell_type": "markdown",
   "metadata": {},
   "source": [
    "# Univariate analysis"
   ]
  },
  {
   "cell_type": "code",
   "execution_count": 26,
   "metadata": {},
   "outputs": [
    {
     "data": {
      "image/png": "[encoded data removed]",
      "text/plain": [
       "<Figure size 1440x360 with 1 Axes>"
      ]
     },
     "metadata": {
      "needs_background": "light"
     },
     "output_type": "display_data"
    }
   ],
   "source": [
    "plt.figure(figsize = (20,5))\n",
    "sns.boxplot(data.distance)\n",
    "plt.show()"
   ]
  },
  {
   "cell_type": "code",
   "execution_count": 27,
   "metadata": {},
   "outputs": [
    {
     "data": {
      "text/plain": [
       "0.6379998234296524"
      ]
     },
     "execution_count": 27,
     "metadata": {},
     "output_type": "execute_result"
    }
   ],
   "source": [
    "data.distance.min()"
   ]
  },
  {
   "cell_type": "code",
   "execution_count": 28,
   "metadata": {},
   "outputs": [
    {
     "data": {
      "text/plain": [
       "19959.990180820434"
      ]
     },
     "execution_count": 28,
     "metadata": {},
     "output_type": "execute_result"
    }
   ],
   "source": [
    "data.distance.max()"
   ]
  },
  {
   "cell_type": "code",
   "execution_count": 29,
   "metadata": {},
   "outputs": [
    {
     "data": {
      "text/plain": [
       "count    1.299993e+06\n",
       "mean     3.040052e+03\n",
       "std      2.667934e+03\n",
       "min      6.379998e-01\n",
       "25%      1.282043e+03\n",
       "50%      2.155056e+03\n",
       "75%      3.788486e+03\n",
       "max      1.995999e+04\n",
       "Name: distance, dtype: float64"
      ]
     },
     "execution_count": 29,
     "metadata": {},
     "output_type": "execute_result"
    }
   ],
   "source": [
    "data.distance.describe()"
   ]
  },
  {
   "cell_type": "code",
   "execution_count": 30,
   "metadata": {},
   "outputs": [
    {
     "data": {
      "image/png": "[encoded data removed]",
      "text/plain": [
       "<Figure size 432x288 with 1 Axes>"
      ]
     },
     "metadata": {
      "needs_background": "light"
     },
     "output_type": "display_data"
    }
   ],
   "source": [
    "data.distance.groupby(pd.cut(data.distance, np.arange(0,20000,1000))).count().plot(kind='bar')\n",
    "plt.show()"
   ]
  },
  {
   "cell_type": "markdown",
   "metadata": {},
   "source": [
    "mean distance travelled is approx 3 kms.\n",
    "standard deviation of 2.6 which shows that most of the trips are limited to the range of 1-10 kms."
   ]
  },
  {
   "cell_type": "markdown",
   "metadata": {},
   "source": [
    "# Duration"
   ]
  },
  {
   "cell_type": "code",
   "execution_count": 31,
   "metadata": {},
   "outputs": [
    {
     "data": {
      "text/plain": [
       "count    1.299993e+06\n",
       "mean     6.980620e+02\n",
       "std      5.535143e+02\n",
       "min      1.000000e+00\n",
       "25%      3.310000e+02\n",
       "50%      5.510000e+02\n",
       "75%      8.940000e+02\n",
       "max      1.784200e+04\n",
       "Name: duration, dtype: float64"
      ]
     },
     "execution_count": 31,
     "metadata": {},
     "output_type": "execute_result"
    }
   ],
   "source": [
    "data.duration.describe()"
   ]
  },
  {
   "cell_type": "code",
   "execution_count": 32,
   "metadata": {},
   "outputs": [
    {
     "data": {
      "image/png": "[encoded data removed]",
      "text/plain": [
       "<Figure size 1440x360 with 1 Axes>"
      ]
     },
     "metadata": {
      "needs_background": "light"
     },
     "output_type": "display_data"
    }
   ],
   "source": [
    "plt.figure(figsize = (20,5))\n",
    "sns.boxplot(data.duration)\n",
    "plt.show()"
   ]
  },
  {
   "cell_type": "markdown",
   "metadata": {},
   "source": [
    "Major trip durations took between 10-20 mins to complete."
   ]
  },
  {
   "cell_type": "code",
   "execution_count": 33,
   "metadata": {},
   "outputs": [
    {
     "data": {
      "image/png": "[encoded data removed]",
      "text/plain": [
       "<Figure size 432x288 with 1 Axes>"
      ]
     },
     "metadata": {
      "needs_background": "light"
     },
     "output_type": "display_data"
    }
   ],
   "source": [
    "data.duration.groupby(pd.cut(data.duration, np.arange(0,18000,1000))).count().plot(kind='barh')\n",
    "plt.xlabel('Trip Counts')\n",
    "plt.ylabel('Trip Duration (seconds)')\n",
    "plt.show()"
   ]
  },
  {
   "cell_type": "markdown",
   "metadata": {},
   "source": [
    "Shows duration vs no of trips"
   ]
  },
  {
   "cell_type": "code",
   "execution_count": 34,
   "metadata": {},
   "outputs": [],
   "source": [
    "#data.duration.groupby(pd.cut(data.duration, np.arange(1,max(data.duration),1000))).count()"
   ]
  },
  {
   "cell_type": "code",
   "execution_count": 35,
   "metadata": {},
   "outputs": [
    {
     "data": {
      "text/plain": [
       "count    1.299993e+06\n",
       "mean     4.684839e+00\n",
       "std      3.415268e+00\n",
       "min      3.484343e-03\n",
       "25%      3.080250e+00\n",
       "50%      4.246442e+00\n",
       "75%      5.754550e+00\n",
       "max      2.169718e+03\n",
       "Name: speed, dtype: float64"
      ]
     },
     "execution_count": 35,
     "metadata": {},
     "output_type": "execute_result"
    }
   ],
   "source": [
    "data.speed.describe()"
   ]
  },
  {
   "cell_type": "code",
   "execution_count": 36,
   "metadata": {},
   "outputs": [
    {
     "data": {
      "image/png": "[encoded data removed]",
      "text/plain": [
       "<Figure size 1440x360 with 1 Axes>"
      ]
     },
     "metadata": {
      "needs_background": "light"
     },
     "output_type": "display_data"
    }
   ],
   "source": [
    "plt.figure(figsize = (20,5))\n",
    "sns.boxplot(data.speed)\n",
    "plt.show()"
   ]
  },
  {
   "cell_type": "markdown",
   "metadata": {},
   "source": [
    "mean speed of the trip is 4.67 unit/sec"
   ]
  },
  {
   "cell_type": "code",
   "execution_count": 37,
   "metadata": {},
   "outputs": [
    {
     "data": {
      "image/png": "[encoded data removed]",
      "text/plain": [
       "<Figure size 432x288 with 1 Axes>"
      ]
     },
     "metadata": {
      "needs_background": "light"
     },
     "output_type": "display_data"
    }
   ],
   "source": [
    "data.speed.groupby(pd.cut(data.speed, np.arange(0,100,5))).count().plot(kind = 'bar')\n",
    "plt.xlabel('Speed (unit/sec)')\n",
    "plt.ylabel('Trip Count')\n",
    "plt.show()"
   ]
  },
  {
   "cell_type": "markdown",
   "metadata": {},
   "source": [
    "Total trips in each hour"
   ]
  },
  {
   "cell_type": "code",
   "execution_count": 38,
   "metadata": {},
   "outputs": [
    {
     "data": {
      "image/png": "[encoded data removed]",
      "text/plain": [
       "<Figure size 432x288 with 1 Axes>"
      ]
     },
     "metadata": {
      "needs_background": "light"
     },
     "output_type": "display_data"
    }
   ],
   "source": [
    "sns.countplot(data.pickup_hour)\n",
    "plt.show()"
   ]
  },
  {
   "cell_type": "markdown",
   "metadata": {},
   "source": [
    "Total trips per week"
   ]
  },
  {
   "cell_type": "code",
   "execution_count": 39,
   "metadata": {},
   "outputs": [
    {
     "data": {
      "image/png": "[encoded data removed]",
      "text/plain": [
       "<Figure size 576x432 with 1 Axes>"
      ]
     },
     "metadata": {
      "needs_background": "light"
     },
     "output_type": "display_data"
    }
   ],
   "source": [
    "plt.figure(figsize = (8,6))\n",
    "sns.countplot(data.weekday_num)\n",
    "plt.xlabel(' week day ')\n",
    "plt.ylabel('Pickup counts')\n",
    "plt.show()"
   ]
  },
  {
   "cell_type": "code",
   "execution_count": 40,
   "metadata": {},
   "outputs": [
    {
     "data": {
      "image/png": "[encoded data removed]",
      "text/plain": [
       "<Figure size 432x288 with 1 Axes>"
      ]
     },
     "metadata": {
      "needs_background": "light"
     },
     "output_type": "display_data"
    }
   ],
   "source": [
    "sns.countplot(data.month)\n",
    "plt.ylabel('Trip Counts')\n",
    "plt.xlabel('Months')\n",
    "plt.show()"
   ]
  },
  {
   "cell_type": "markdown",
   "metadata": {},
   "source": [
    "# BiVariate Analysis"
   ]
  },
  {
   "cell_type": "code",
   "execution_count": 41,
   "metadata": {},
   "outputs": [
    {
     "data": {
      "image/png": "[encoded data removed]",
      "text/plain": [
       "<Figure size 432x288 with 1 Axes>"
      ]
     },
     "metadata": {
      "needs_background": "light"
     },
     "output_type": "display_data"
    }
   ],
   "source": [
    "group1 = data.groupby('pickup_hour').duration.mean()\n",
    "sns.pointplot(group1.index, group1.values, order =[\"0\" ,\"1\" , \"2\", \"3\" , \"4\",\"5\",\"6\",\"7\",\"8\",\"9\",\"10\",\"11\",\"12\",\"13\",\"14\",\"15\",\"16\",\"17\",\"18\",\"19\",\"20\",\"21\",\"22\",\"23\"])\n",
    "plt.ylabel('Trip Duration (seconds)')\n",
    "plt.xlabel('Pickup Hour')\n",
    "plt.show()"
   ]
  },
  {
   "cell_type": "code",
   "execution_count": 42,
   "metadata": {},
   "outputs": [
    {
     "data": {
      "image/png": "[encoded data removed]",
      "text/plain": [
       "<Figure size 432x288 with 1 Axes>"
      ]
     },
     "metadata": {
      "needs_background": "light"
     },
     "output_type": "display_data"
    }
   ],
   "source": [
    "group2 = data.groupby('weekday_num').duration.mean()\n",
    "sns.pointplot(group2.index, group2.values)\n",
    "plt.ylabel('Trip Duration (seconds)')\n",
    "plt.xlabel('Weekday')\n",
    "plt.show()"
   ]
  },
  {
   "cell_type": "code",
   "execution_count": 43,
   "metadata": {},
   "outputs": [
    {
     "data": {
      "image/png": "[encoded data removed]",
      "text/plain": [
       "<Figure size 432x288 with 1 Axes>"
      ]
     },
     "metadata": {
      "needs_background": "light"
     },
     "output_type": "display_data"
    }
   ],
   "source": [
    "group3 = data.groupby('month').duration.mean()\n",
    "sns.pointplot(group3.index, group3.values)\n",
    "plt.ylabel('Trip Duration (seconds)')\n",
    "plt.xlabel('Month')\n",
    "plt.show()"
   ]
  },
  {
   "cell_type": "code",
   "execution_count": 44,
   "metadata": {},
   "outputs": [
    {
     "data": {
      "image/png": "[encoded data removed]",
      "text/plain": [
       "<Figure size 432x288 with 1 Axes>"
      ]
     },
     "metadata": {
      "needs_background": "light"
     },
     "output_type": "display_data"
    }
   ],
   "source": [
    "group5 = data.groupby('pickup_hour').distance.mean()\n",
    "sns.pointplot(group5.index, group5.values, order =[\"0\" ,\"1\" , \"2\", \"3\" , \"4\",\"5\",\"6\",\"7\",\"8\",\"9\",\"10\",\"11\",\"12\",\"13\",\"14\",\"15\",\"16\",\"17\",\"18\",\"19\",\"20\",\"21\",\"22\",\"23\"])\n",
    "plt.ylabel('Distance (km)')\n",
    "plt.show()"
   ]
  },
  {
   "cell_type": "code",
   "execution_count": 45,
   "metadata": {},
   "outputs": [
    {
     "data": {
      "image/png": "[encoded data removed]",
      "text/plain": [
       "<Figure size 432x288 with 1 Axes>"
      ]
     },
     "metadata": {
      "needs_background": "light"
     },
     "output_type": "display_data"
    }
   ],
   "source": [
    "group6 = data.groupby('weekday_num').distance.mean()\n",
    "sns.pointplot(group6.index, group6.values)\n",
    "plt.ylabel('Distance (km)')\n",
    "plt.show()"
   ]
  },
  {
   "cell_type": "code",
   "execution_count": 46,
   "metadata": {},
   "outputs": [
    {
     "data": {
      "image/png": "[encoded data removed]",
      "text/plain": [
       "<Figure size 432x288 with 1 Axes>"
      ]
     },
     "metadata": {
      "needs_background": "light"
     },
     "output_type": "display_data"
    }
   ],
   "source": [
    "group7 = data.groupby('month').distance.mean()\n",
    "sns.pointplot(group7.index, group7.values)\n",
    "plt.ylabel('Distance (km)')\n",
    "plt.show()"
   ]
  },
  {
   "cell_type": "code",
   "execution_count": 47,
   "metadata": {},
   "outputs": [
    {
     "data": {
      "image/png": "[encoded data removed]",
      "text/plain": [
       "<Figure size 432x288 with 1 Axes>"
      ]
     },
     "metadata": {
      "needs_background": "light"
     },
     "output_type": "display_data"
    }
   ],
   "source": [
    "plt.scatter(data.duration, data.distance , s=1, alpha=0.5)\n",
    "plt.ylabel('Distance')\n",
    "plt.xlabel('Trip Duration')\n",
    "plt.show()"
   ]
  },
  {
   "cell_type": "code",
   "execution_count": 48,
   "metadata": {},
   "outputs": [
    {
     "data": {
      "image/png": "[encoded data removed]",
      "text/plain": [
       "<Figure size 432x288 with 1 Axes>"
      ]
     },
     "metadata": {
      "needs_background": "light"
     },
     "output_type": "display_data"
    }
   ],
   "source": [
    "group9 = data.groupby('pickup_hour').speed.mean()\n",
    "sns.pointplot(group9.index, group9.values, order =[\"0\" ,\"1\" , \"2\", \"3\" , \"4\",\"5\",\"6\",\"7\",\"8\",\"9\",\"10\",\"11\",\"12\",\"13\",\"14\",\"15\",\"16\",\"17\",\"18\",\"19\",\"20\",\"21\",\"22\",\"23\"])\n",
    "plt.show()"
   ]
  },
  {
   "cell_type": "code",
   "execution_count": 49,
   "metadata": {},
   "outputs": [
    {
     "data": {
      "image/png": "[encoded data removed]",
      "text/plain": [
       "<Figure size 432x288 with 1 Axes>"
      ]
     },
     "metadata": {
      "needs_background": "light"
     },
     "output_type": "display_data"
    }
   ],
   "source": [
    "group10 = data.groupby('weekday_num').speed.mean()\n",
    "sns.pointplot(group10.index, group10.values)\n",
    "plt.show()"
   ]
  },
  {
   "cell_type": "code",
   "execution_count": 50,
   "metadata": {},
   "outputs": [
    {
     "name": "stdout",
     "output_type": "stream",
     "text": [
      "<class 'pandas.core.frame.DataFrame'>\n",
      "Int64Index: 1299993 entries, 0 to 1299999\n",
      "Data columns (total 47 columns):\n",
      "pickup_datetime    1299993 non-null datetime64[ns]\n",
      "duration           1299993 non-null int64\n",
      "pickup_x           1299993 non-null float64\n",
      "pickup_y           1299993 non-null float64\n",
      "dropoff_x          1299993 non-null float64\n",
      "dropoff_y          1299993 non-null float64\n",
      "weekday            1299993 non-null object\n",
      "month              1299993 non-null object\n",
      "weekday_num        1299993 non-null object\n",
      "pickup_hour        1299993 non-null object\n",
      "distance           1299993 non-null float64\n",
      "speed              1299993 non-null float64\n",
      "month_2            1299993 non-null uint8\n",
      "month_3            1299993 non-null uint8\n",
      "month_4            1299993 non-null uint8\n",
      "month_5            1299993 non-null uint8\n",
      "month_6            1299993 non-null uint8\n",
      "month_7            1299993 non-null uint8\n",
      "weekday_num_1      1299993 non-null uint8\n",
      "weekday_num_2      1299993 non-null uint8\n",
      "weekday_num_3      1299993 non-null uint8\n",
      "weekday_num_4      1299993 non-null uint8\n",
      "weekday_num_5      1299993 non-null uint8\n",
      "weekday_num_6      1299993 non-null uint8\n",
      "pickup_hour_1      1299993 non-null uint8\n",
      "pickup_hour_10     1299993 non-null uint8\n",
      "pickup_hour_11     1299993 non-null uint8\n",
      "pickup_hour_12     1299993 non-null uint8\n",
      "pickup_hour_13     1299993 non-null uint8\n",
      "pickup_hour_14     1299993 non-null uint8\n",
      "pickup_hour_15     1299993 non-null uint8\n",
      "pickup_hour_16     1299993 non-null uint8\n",
      "pickup_hour_17     1299993 non-null uint8\n",
      "pickup_hour_18     1299993 non-null uint8\n",
      "pickup_hour_19     1299993 non-null uint8\n",
      "pickup_hour_2      1299993 non-null uint8\n",
      "pickup_hour_20     1299993 non-null uint8\n",
      "pickup_hour_21     1299993 non-null uint8\n",
      "pickup_hour_22     1299993 non-null uint8\n",
      "pickup_hour_23     1299993 non-null uint8\n",
      "pickup_hour_3      1299993 non-null uint8\n",
      "pickup_hour_4      1299993 non-null uint8\n",
      "pickup_hour_5      1299993 non-null uint8\n",
      "pickup_hour_6      1299993 non-null uint8\n",
      "pickup_hour_7      1299993 non-null uint8\n",
      "pickup_hour_8      1299993 non-null uint8\n",
      "pickup_hour_9      1299993 non-null uint8\n",
      "dtypes: datetime64[ns](1), float64(6), int64(1), object(4), uint8(35)\n",
      "memory usage: 172.3+ MB\n"
     ]
    }
   ],
   "source": [
    "data.info()"
   ]
  },
  {
   "cell_type": "code",
   "execution_count": 51,
   "metadata": {},
   "outputs": [
    {
     "name": "stdout",
     "output_type": "stream",
     "text": [
      "<class 'pandas.core.frame.DataFrame'>\n",
      "Int64Index: 1299993 entries, 0 to 1299999\n",
      "Data columns (total 40 columns):\n",
      "month             1299993 non-null object\n",
      "weekday_num       1299993 non-null object\n",
      "pickup_hour       1299993 non-null object\n",
      "distance          1299993 non-null float64\n",
      "speed             1299993 non-null float64\n",
      "month_2           1299993 non-null uint8\n",
      "month_3           1299993 non-null uint8\n",
      "month_4           1299993 non-null uint8\n",
      "month_5           1299993 non-null uint8\n",
      "month_6           1299993 non-null uint8\n",
      "month_7           1299993 non-null uint8\n",
      "weekday_num_1     1299993 non-null uint8\n",
      "weekday_num_2     1299993 non-null uint8\n",
      "weekday_num_3     1299993 non-null uint8\n",
      "weekday_num_4     1299993 non-null uint8\n",
      "weekday_num_5     1299993 non-null uint8\n",
      "weekday_num_6     1299993 non-null uint8\n",
      "pickup_hour_1     1299993 non-null uint8\n",
      "pickup_hour_10    1299993 non-null uint8\n",
      "pickup_hour_11    1299993 non-null uint8\n",
      "pickup_hour_12    1299993 non-null uint8\n",
      "pickup_hour_13    1299993 non-null uint8\n",
      "pickup_hour_14    1299993 non-null uint8\n",
      "pickup_hour_15    1299993 non-null uint8\n",
      "pickup_hour_16    1299993 non-null uint8\n",
      "pickup_hour_17    1299993 non-null uint8\n",
      "pickup_hour_18    1299993 non-null uint8\n",
      "pickup_hour_19    1299993 non-null uint8\n",
      "pickup_hour_2     1299993 non-null uint8\n",
      "pickup_hour_20    1299993 non-null uint8\n",
      "pickup_hour_21    1299993 non-null uint8\n",
      "pickup_hour_22    1299993 non-null uint8\n",
      "pickup_hour_23    1299993 non-null uint8\n",
      "pickup_hour_3     1299993 non-null uint8\n",
      "pickup_hour_4     1299993 non-null uint8\n",
      "pickup_hour_5     1299993 non-null uint8\n",
      "pickup_hour_6     1299993 non-null uint8\n",
      "pickup_hour_7     1299993 non-null uint8\n",
      "pickup_hour_8     1299993 non-null uint8\n",
      "pickup_hour_9     1299993 non-null uint8\n",
      "dtypes: float64(2), object(3), uint8(35)\n",
      "memory usage: 102.9+ MB\n"
     ]
    }
   ],
   "source": [
    "Col1 = [\"pickup_x\", \"pickup_y\",\"dropoff_x\", \"dropoff_y\", \"weekday\",\"pickup_datetime\", \"duration\"]\n",
    "X_train = data.drop(Col1, axis =1)\n",
    "X_train.info()"
   ]
  },
  {
   "cell_type": "markdown",
   "metadata": {},
   "source": [
    "# Feature Selection"
   ]
  },
  {
   "cell_type": "code",
   "execution_count": 52,
   "metadata": {},
   "outputs": [
    {
     "data": {
      "text/plain": [
       "[(0, 'pickup_datetime'),\n",
       " (1, 'duration'),\n",
       " (2, 'pickup_x'),\n",
       " (3, 'pickup_y'),\n",
       " (4, 'dropoff_x'),\n",
       " (5, 'dropoff_y'),\n",
       " (6, 'weekday'),\n",
       " (7, 'month'),\n",
       " (8, 'weekday_num'),\n",
       " (9, 'pickup_hour'),\n",
       " (10, 'distance'),\n",
       " (11, 'speed'),\n",
       " (12, 'month_2'),\n",
       " (13, 'month_3'),\n",
       " (14, 'month_4'),\n",
       " (15, 'month_5'),\n",
       " (16, 'month_6'),\n",
       " (17, 'month_7'),\n",
       " (18, 'weekday_num_1'),\n",
       " (19, 'weekday_num_2'),\n",
       " (20, 'weekday_num_3'),\n",
       " (21, 'weekday_num_4'),\n",
       " (22, 'weekday_num_5'),\n",
       " (23, 'weekday_num_6'),\n",
       " (24, 'pickup_hour_1'),\n",
       " (25, 'pickup_hour_10'),\n",
       " (26, 'pickup_hour_11'),\n",
       " (27, 'pickup_hour_12'),\n",
       " (28, 'pickup_hour_13'),\n",
       " (29, 'pickup_hour_14'),\n",
       " (30, 'pickup_hour_15'),\n",
       " (31, 'pickup_hour_16'),\n",
       " (32, 'pickup_hour_17'),\n",
       " (33, 'pickup_hour_18'),\n",
       " (34, 'pickup_hour_19'),\n",
       " (35, 'pickup_hour_2'),\n",
       " (36, 'pickup_hour_20'),\n",
       " (37, 'pickup_hour_21'),\n",
       " (38, 'pickup_hour_22'),\n",
       " (39, 'pickup_hour_23'),\n",
       " (40, 'pickup_hour_3'),\n",
       " (41, 'pickup_hour_4'),\n",
       " (42, 'pickup_hour_5'),\n",
       " (43, 'pickup_hour_6'),\n",
       " (44, 'pickup_hour_7'),\n",
       " (45, 'pickup_hour_8'),\n",
       " (46, 'pickup_hour_9')]"
      ]
     },
     "execution_count": 52,
     "metadata": {},
     "output_type": "execute_result"
    }
   ],
   "source": [
    "list(zip( range(0,len(data.columns)),data.columns))"
   ]
  },
  {
   "cell_type": "code",
   "execution_count": 53,
   "metadata": {},
   "outputs": [
    {
     "data": {
      "text/plain": [
       "(1299993, 37)"
      ]
     },
     "execution_count": 53,
     "metadata": {},
     "output_type": "execute_result"
    }
   ],
   "source": [
    "Y = data.iloc[:,1].values #duration , target\n",
    "X = data.iloc[:,range(10,47)].values #Train features\n",
    "X.shape"
   ]
  },
  {
   "cell_type": "code",
   "execution_count": 54,
   "metadata": {},
   "outputs": [
    {
     "data": {
      "text/plain": [
       "array([ 690,  399,  715, ...,  743, 1124, 2423])"
      ]
     },
     "execution_count": 54,
     "metadata": {},
     "output_type": "execute_result"
    }
   ],
   "source": [
    "Y"
   ]
  },
  {
   "cell_type": "code",
   "execution_count": 55,
   "metadata": {},
   "outputs": [
    {
     "name": "stdout",
     "output_type": "stream",
     "text": [
      "Let's append 1299993 rows of 1's as the first column in the X array\n"
     ]
    }
   ],
   "source": [
    "print(\"Let's append {} rows of 1's as the first column in the X array\".format(X.shape[0]))\n"
   ]
  },
  {
   "cell_type": "code",
   "execution_count": 56,
   "metadata": {},
   "outputs": [
    {
     "data": {
      "text/plain": [
       "(1299993, 38)"
      ]
     },
     "execution_count": 56,
     "metadata": {},
     "output_type": "execute_result"
    }
   ],
   "source": [
    "X1 = np.append(arr = np.ones((X.shape[0],1)).astype(int), values = X, axis = 1)\n",
    "X1.shape"
   ]
  },
  {
   "cell_type": "code",
   "execution_count": 57,
   "metadata": {},
   "outputs": [
    {
     "data": {
      "text/html": [
       "<table class=\"simpletable\">\n",
       "<caption>OLS Regression Results</caption>\n",
       "<tr>\n",
       "  <th>Dep. Variable:</th>            <td>y</td>        <th>  R-squared:         </th>  <td>   0.641</td>  \n",
       "</tr>\n",
       "<tr>\n",
       "  <th>Model:</th>                   <td>OLS</td>       <th>  Adj. R-squared:    </th>  <td>   0.641</td>  \n",
       "</tr>\n",
       "<tr>\n",
       "  <th>Method:</th>             <td>Least Squares</td>  <th>  F-statistic:       </th>  <td>6.461e+04</td> \n",
       "</tr>\n",
       "<tr>\n",
       "  <th>Date:</th>             <td>Wed, 24 Apr 2019</td> <th>  Prob (F-statistic):</th>   <td>  0.00</td>   \n",
       "</tr>\n",
       "<tr>\n",
       "  <th>Time:</th>                 <td>14:12:12</td>     <th>  Log-Likelihood:    </th> <td>-9.3890e+06</td>\n",
       "</tr>\n",
       "<tr>\n",
       "  <th>No. Observations:</th>      <td>1299993</td>     <th>  AIC:               </th>  <td>1.878e+07</td> \n",
       "</tr>\n",
       "<tr>\n",
       "  <th>Df Residuals:</th>          <td>1299956</td>     <th>  BIC:               </th>  <td>1.878e+07</td> \n",
       "</tr>\n",
       "<tr>\n",
       "  <th>Df Model:</th>              <td>    36</td>      <th>                     </th>      <td> </td>     \n",
       "</tr>\n",
       "<tr>\n",
       "  <th>Covariance Type:</th>      <td>nonrobust</td>    <th>                     </th>      <td> </td>     \n",
       "</tr>\n",
       "</table>\n",
       "<table class=\"simpletable\">\n",
       "<tr>\n",
       "    <td></td>       <th>coef</th>     <th>std err</th>      <th>t</th>      <th>P>|t|</th>  <th>[0.025</th>    <th>0.975]</th>  \n",
       "</tr>\n",
       "<tr>\n",
       "  <th>const</th> <td>  289.7148</td> <td>    1.631</td> <td>  177.628</td> <td> 0.000</td> <td>  286.518</td> <td>  292.912</td>\n",
       "</tr>\n",
       "<tr>\n",
       "  <th>x1</th>    <td>    0.1686</td> <td>    0.000</td> <td> 1487.143</td> <td> 0.000</td> <td>    0.168</td> <td>    0.169</td>\n",
       "</tr>\n",
       "<tr>\n",
       "  <th>x2</th>    <td>  -49.1944</td> <td>    0.091</td> <td> -543.146</td> <td> 0.000</td> <td>  -49.372</td> <td>  -49.017</td>\n",
       "</tr>\n",
       "<tr>\n",
       "  <th>x3</th>    <td>   40.4742</td> <td>    1.215</td> <td>   33.322</td> <td> 0.000</td> <td>   38.094</td> <td>   42.855</td>\n",
       "</tr>\n",
       "<tr>\n",
       "  <th>x4</th>    <td>   34.0396</td> <td>    1.175</td> <td>   28.965</td> <td> 0.000</td> <td>   31.736</td> <td>   36.343</td>\n",
       "</tr>\n",
       "<tr>\n",
       "  <th>x5</th>    <td>   46.5715</td> <td>    1.178</td> <td>   39.526</td> <td> 0.000</td> <td>   44.262</td> <td>   48.881</td>\n",
       "</tr>\n",
       "<tr>\n",
       "  <th>x6</th>    <td>   68.9892</td> <td>    1.178</td> <td>   58.588</td> <td> 0.000</td> <td>   66.681</td> <td>   71.297</td>\n",
       "</tr>\n",
       "<tr>\n",
       "  <th>x7</th>    <td>   79.3062</td> <td>    1.197</td> <td>   66.280</td> <td> 0.000</td> <td>   76.961</td> <td>   81.651</td>\n",
       "</tr>\n",
       "<tr>\n",
       "  <th>x8</th>    <td>   72.1185</td> <td>    1.434</td> <td>   50.289</td> <td> 0.000</td> <td>   69.308</td> <td>   74.929</td>\n",
       "</tr>\n",
       "<tr>\n",
       "  <th>x9</th>    <td>   34.4606</td> <td>    1.148</td> <td>   30.026</td> <td> 0.000</td> <td>   32.211</td> <td>   36.710</td>\n",
       "</tr>\n",
       "<tr>\n",
       "  <th>x10</th>   <td>   72.7072</td> <td>    1.129</td> <td>   64.384</td> <td> 0.000</td> <td>   70.494</td> <td>   74.920</td>\n",
       "</tr>\n",
       "<tr>\n",
       "  <th>x11</th>   <td>   90.6166</td> <td>    1.121</td> <td>   80.866</td> <td> 0.000</td> <td>   88.420</td> <td>   92.813</td>\n",
       "</tr>\n",
       "<tr>\n",
       "  <th>x12</th>   <td>   98.0457</td> <td>    1.111</td> <td>   88.287</td> <td> 0.000</td> <td>   95.869</td> <td>  100.222</td>\n",
       "</tr>\n",
       "<tr>\n",
       "  <th>x13</th>   <td>   84.4875</td> <td>    1.099</td> <td>   76.854</td> <td> 0.000</td> <td>   82.333</td> <td>   86.642</td>\n",
       "</tr>\n",
       "<tr>\n",
       "  <th>x14</th>   <td>   33.9768</td> <td>    1.094</td> <td>   31.061</td> <td> 0.000</td> <td>   31.833</td> <td>   36.121</td>\n",
       "</tr>\n",
       "<tr>\n",
       "  <th>x15</th>   <td>  -83.2242</td> <td>    2.061</td> <td>  -40.385</td> <td> 0.000</td> <td>  -87.263</td> <td>  -79.185</td>\n",
       "</tr>\n",
       "<tr>\n",
       "  <th>x16</th>   <td>   52.6036</td> <td>    1.705</td> <td>   30.857</td> <td> 0.000</td> <td>   49.262</td> <td>   55.945</td>\n",
       "</tr>\n",
       "<tr>\n",
       "  <th>x17</th>   <td>   66.5277</td> <td>    1.680</td> <td>   39.600</td> <td> 0.000</td> <td>   63.235</td> <td>   69.820</td>\n",
       "</tr>\n",
       "<tr>\n",
       "  <th>x18</th>   <td>   71.1769</td> <td>    1.656</td> <td>   42.981</td> <td> 0.000</td> <td>   67.931</td> <td>   74.423</td>\n",
       "</tr>\n",
       "<tr>\n",
       "  <th>x19</th>   <td>   73.5345</td> <td>    1.657</td> <td>   44.387</td> <td> 0.000</td> <td>   70.288</td> <td>   76.782</td>\n",
       "</tr>\n",
       "<tr>\n",
       "  <th>x20</th>   <td>   96.9577</td> <td>    1.638</td> <td>   59.189</td> <td> 0.000</td> <td>   93.747</td> <td>  100.168</td>\n",
       "</tr>\n",
       "<tr>\n",
       "  <th>x21</th>   <td>  109.9846</td> <td>    1.656</td> <td>   66.420</td> <td> 0.000</td> <td>  106.739</td> <td>  113.230</td>\n",
       "</tr>\n",
       "<tr>\n",
       "  <th>x22</th>   <td>  113.0618</td> <td>    1.715</td> <td>   65.941</td> <td> 0.000</td> <td>  109.701</td> <td>  116.422</td>\n",
       "</tr>\n",
       "<tr>\n",
       "  <th>x23</th>   <td>   95.5296</td> <td>    1.624</td> <td>   58.841</td> <td> 0.000</td> <td>   92.348</td> <td>   98.712</td>\n",
       "</tr>\n",
       "<tr>\n",
       "  <th>x24</th>   <td>   56.1253</td> <td>    1.544</td> <td>   36.360</td> <td> 0.000</td> <td>   53.100</td> <td>   59.151</td>\n",
       "</tr>\n",
       "<tr>\n",
       "  <th>x25</th>   <td>    2.5618</td> <td>    1.545</td> <td>    1.658</td> <td> 0.097</td> <td>   -0.467</td> <td>    5.590</td>\n",
       "</tr>\n",
       "<tr>\n",
       "  <th>x26</th>   <td>  -98.3668</td> <td>    2.339</td> <td>  -42.046</td> <td> 0.000</td> <td> -102.952</td> <td>  -93.781</td>\n",
       "</tr>\n",
       "<tr>\n",
       "  <th>x27</th>   <td>  -32.7036</td> <td>    1.578</td> <td>  -20.723</td> <td> 0.000</td> <td>  -35.797</td> <td>  -29.611</td>\n",
       "</tr>\n",
       "<tr>\n",
       "  <th>x28</th>   <td>  -46.7524</td> <td>    1.577</td> <td>  -29.639</td> <td> 0.000</td> <td>  -49.844</td> <td>  -43.661</td>\n",
       "</tr>\n",
       "<tr>\n",
       "  <th>x29</th>   <td>  -44.4531</td> <td>    1.598</td> <td>  -27.821</td> <td> 0.000</td> <td>  -47.585</td> <td>  -41.321</td>\n",
       "</tr>\n",
       "<tr>\n",
       "  <th>x30</th>   <td>  -58.4155</td> <td>    1.672</td> <td>  -34.937</td> <td> 0.000</td> <td>  -61.693</td> <td>  -55.138</td>\n",
       "</tr>\n",
       "<tr>\n",
       "  <th>x31</th>   <td> -112.9108</td> <td>    2.639</td> <td>  -42.783</td> <td> 0.000</td> <td> -118.084</td> <td> -107.738</td>\n",
       "</tr>\n",
       "<tr>\n",
       "  <th>x32</th>   <td> -146.2757</td> <td>    2.992</td> <td>  -48.896</td> <td> 0.000</td> <td> -152.139</td> <td> -140.412</td>\n",
       "</tr>\n",
       "<tr>\n",
       "  <th>x33</th>   <td> -165.9966</td> <td>    3.046</td> <td>  -54.488</td> <td> 0.000</td> <td> -171.968</td> <td> -160.026</td>\n",
       "</tr>\n",
       "<tr>\n",
       "  <th>x34</th>   <td> -107.8694</td> <td>    2.180</td> <td>  -49.474</td> <td> 0.000</td> <td> -112.143</td> <td> -103.596</td>\n",
       "</tr>\n",
       "<tr>\n",
       "  <th>x35</th>   <td>  -30.6034</td> <td>    1.803</td> <td>  -16.974</td> <td> 0.000</td> <td>  -34.137</td> <td>  -27.070</td>\n",
       "</tr>\n",
       "<tr>\n",
       "  <th>x36</th>   <td>   36.1900</td> <td>    1.694</td> <td>   21.359</td> <td> 0.000</td> <td>   32.869</td> <td>   39.511</td>\n",
       "</tr>\n",
       "</table>\n",
       "<table class=\"simpletable\">\n",
       "<tr>\n",
       "  <th>Omnibus:</th>       <td>3457291.171</td> <th>  Durbin-Watson:     </th>     <td>   2.003</td>     \n",
       "</tr>\n",
       "<tr>\n",
       "  <th>Prob(Omnibus):</th>   <td> 0.000</td>    <th>  Jarque-Bera (JB):  </th> <td>3318536890906.931</td>\n",
       "</tr>\n",
       "<tr>\n",
       "  <th>Skew:</th>            <td>30.403</td>    <th>  Prob(JB):          </th>     <td>    0.00</td>     \n",
       "</tr>\n",
       "<tr>\n",
       "  <th>Kurtosis:</th>       <td>7830.000</td>   <th>  Cond. No.          </th>     <td>7.14e+04</td>     \n",
       "</tr>\n",
       "</table><br/><br/>Warnings:<br/>[1] Standard Errors assume that the covariance matrix of the errors is correctly specified.<br/>[2] The condition number is large, 7.14e+04. This might indicate that there are<br/>strong multicollinearity or other numerical problems."
      ],
      "text/plain": [
       "<class 'statsmodels.iolib.summary.Summary'>\n",
       "\"\"\"\n",
       "                            OLS Regression Results                            \n",
       "==============================================================================\n",
       "Dep. Variable:                      y   R-squared:                       0.641\n",
       "Model:                            OLS   Adj. R-squared:                  0.641\n",
       "Method:                 Least Squares   F-statistic:                 6.461e+04\n",
       "Date:                Wed, 24 Apr 2019   Prob (F-statistic):               0.00\n",
       "Time:                        14:12:12   Log-Likelihood:            -9.3890e+06\n",
       "No. Observations:             1299993   AIC:                         1.878e+07\n",
       "Df Residuals:                 1299956   BIC:                         1.878e+07\n",
       "Df Model:                          36                                         \n",
       "Covariance Type:            nonrobust                                         \n",
       "==============================================================================\n",
       "                 coef    std err          t      P>|t|      [0.025      0.975]\n",
       "------------------------------------------------------------------------------\n",
       "const        289.7148      1.631    177.628      0.000     286.518     292.912\n",
       "x1             0.1686      0.000   1487.143      0.000       0.168       0.169\n",
       "x2           -49.1944      0.091   -543.146      0.000     -49.372     -49.017\n",
       "x3            40.4742      1.215     33.322      0.000      38.094      42.855\n",
       "x4            34.0396      1.175     28.965      0.000      31.736      36.343\n",
       "x5            46.5715      1.178     39.526      0.000      44.262      48.881\n",
       "x6            68.9892      1.178     58.588      0.000      66.681      71.297\n",
       "x7            79.3062      1.197     66.280      0.000      76.961      81.651\n",
       "x8            72.1185      1.434     50.289      0.000      69.308      74.929\n",
       "x9            34.4606      1.148     30.026      0.000      32.211      36.710\n",
       "x10           72.7072      1.129     64.384      0.000      70.494      74.920\n",
       "x11           90.6166      1.121     80.866      0.000      88.420      92.813\n",
       "x12           98.0457      1.111     88.287      0.000      95.869     100.222\n",
       "x13           84.4875      1.099     76.854      0.000      82.333      86.642\n",
       "x14           33.9768      1.094     31.061      0.000      31.833      36.121\n",
       "x15          -83.2242      2.061    -40.385      0.000     -87.263     -79.185\n",
       "x16           52.6036      1.705     30.857      0.000      49.262      55.945\n",
       "x17           66.5277      1.680     39.600      0.000      63.235      69.820\n",
       "x18           71.1769      1.656     42.981      0.000      67.931      74.423\n",
       "x19           73.5345      1.657     44.387      0.000      70.288      76.782\n",
       "x20           96.9577      1.638     59.189      0.000      93.747     100.168\n",
       "x21          109.9846      1.656     66.420      0.000     106.739     113.230\n",
       "x22          113.0618      1.715     65.941      0.000     109.701     116.422\n",
       "x23           95.5296      1.624     58.841      0.000      92.348      98.712\n",
       "x24           56.1253      1.544     36.360      0.000      53.100      59.151\n",
       "x25            2.5618      1.545      1.658      0.097      -0.467       5.590\n",
       "x26          -98.3668      2.339    -42.046      0.000    -102.952     -93.781\n",
       "x27          -32.7036      1.578    -20.723      0.000     -35.797     -29.611\n",
       "x28          -46.7524      1.577    -29.639      0.000     -49.844     -43.661\n",
       "x29          -44.4531      1.598    -27.821      0.000     -47.585     -41.321\n",
       "x30          -58.4155      1.672    -34.937      0.000     -61.693     -55.138\n",
       "x31         -112.9108      2.639    -42.783      0.000    -118.084    -107.738\n",
       "x32         -146.2757      2.992    -48.896      0.000    -152.139    -140.412\n",
       "x33         -165.9966      3.046    -54.488      0.000    -171.968    -160.026\n",
       "x34         -107.8694      2.180    -49.474      0.000    -112.143    -103.596\n",
       "x35          -30.6034      1.803    -16.974      0.000     -34.137     -27.070\n",
       "x36           36.1900      1.694     21.359      0.000      32.869      39.511\n",
       "==============================================================================\n",
       "Omnibus:                  3457291.171   Durbin-Watson:                   2.003\n",
       "Prob(Omnibus):                  0.000   Jarque-Bera (JB):    3318536890906.931\n",
       "Skew:                          30.403   Prob(JB):                         0.00\n",
       "Kurtosis:                    7830.000   Cond. No.                     7.14e+04\n",
       "==============================================================================\n",
       "\n",
       "Warnings:\n",
       "[1] Standard Errors assume that the covariance matrix of the errors is correctly specified.\n",
       "[2] The condition number is large, 7.14e+04. This might indicate that there are\n",
       "strong multicollinearity or other numerical problems.\n",
       "\"\"\""
      ]
     },
     "execution_count": 57,
     "metadata": {},
     "output_type": "execute_result"
    }
   ],
   "source": [
    "X_opt = X1[:,range(0,37)]\n",
    "regressor_OLS = sm.OLS(endog = Y, exog = X_opt).fit()\n",
    "\n",
    "#Fetch p values for each feature\n",
    "p_Vals = regressor_OLS.pvalues\n",
    "\n",
    "#define significance level for accepting the feature.\n",
    "sig_Level = 0.01\n",
    "\n",
    "regressor_OLS.summary()"
   ]
  },
  {
   "cell_type": "code",
   "execution_count": 58,
   "metadata": {},
   "outputs": [
    {
     "data": {
      "image/png": "[encoded data removed]",
      "text/plain": [
       "<Figure size 1080x1080 with 2 Axes>"
      ]
     },
     "metadata": {
      "needs_background": "light"
     },
     "output_type": "display_data"
    }
   ],
   "source": [
    "plt.figure(figsize=(15,15))\n",
    "corr = pd.DataFrame(X[:,1:]).corr()\n",
    "corr.index = pd.DataFrame(X[:,1:]).columns\n",
    "sns.heatmap(corr, vmin=-1, vmax=1,cmap='RdYlGn', square=True)\n",
    "plt.title(\"Correlation Heatmap\", fontsize=16)\n",
    "plt.show()"
   ]
  },
  {
   "cell_type": "code",
   "execution_count": 59,
   "metadata": {},
   "outputs": [],
   "source": [
    "#Split raw data\n",
    "X_train, X_test, y_train, y_test = train_test_split(X,Y, random_state=4, test_size=0.2)\n",
    "\n",
    "#Split data from the feature selection group\n",
    "X_train_fs, X_test_fs, y_train_fs, y_test_fs = train_test_split(X_opt,Y, random_state=4, test_size=0.2)"
   ]
  },
  {
   "cell_type": "code",
   "execution_count": 60,
   "metadata": {},
   "outputs": [],
   "source": [
    "X_train_pca, X_test_pca, y_train_pca, y_test_pca = train_test_split(X,Y, random_state=4, test_size=0.2)"
   ]
  },
  {
   "cell_type": "markdown",
   "metadata": {},
   "source": [
    "Scale Data"
   ]
  },
  {
   "cell_type": "code",
   "execution_count": 61,
   "metadata": {},
   "outputs": [],
   "source": [
    "from sklearn.preprocessing import StandardScaler\n",
    "scaler = StandardScaler()\n",
    "X_train_pca = scaler.fit_transform(X_train_pca)\n",
    "X_test_pca = scaler.transform(X_test_pca)"
   ]
  },
  {
   "cell_type": "code",
   "execution_count": 62,
   "metadata": {},
   "outputs": [
    {
     "data": {
      "image/png": "[encoded data removed]",
      "text/plain": [
       "<Figure size 432x288 with 1 Axes>"
      ]
     },
     "metadata": {
      "needs_background": "light"
     },
     "output_type": "display_data"
    }
   ],
   "source": [
    "from sklearn.decomposition import PCA\n",
    "pca = PCA().fit(X_train_pca)\n",
    "plt.plot(np.cumsum(pca.explained_variance_ratio_))\n",
    "plt.xlabel(\"number of components\")\n",
    "plt.ylabel(\"Cumulative explained variance\")\n",
    "plt.show()"
   ]
  },
  {
   "cell_type": "code",
   "execution_count": 63,
   "metadata": {
    "scrolled": true
   },
   "outputs": [
    {
     "data": {
      "text/plain": [
       "[(1, 3.8899999999999997),\n",
       " (2, 7.3999999999999995),\n",
       " (3, 10.8),\n",
       " (4, 14.11),\n",
       " (5, 17.38),\n",
       " (6, 20.549999999999997),\n",
       " (7, 23.72),\n",
       " (8, 26.84),\n",
       " (9, 29.93),\n",
       " (10, 32.95),\n",
       " (11, 35.900000000000006),\n",
       " (12, 38.78000000000001),\n",
       " (13, 41.650000000000006),\n",
       " (14, 44.52),\n",
       " (15, 47.38),\n",
       " (16, 50.230000000000004),\n",
       " (17, 53.080000000000005),\n",
       " (18, 55.92000000000001),\n",
       " (19, 58.76000000000001),\n",
       " (20, 61.600000000000016),\n",
       " (21, 64.44000000000001),\n",
       " (22, 67.27000000000001),\n",
       " (23, 70.10000000000001),\n",
       " (24, 72.93),\n",
       " (25, 75.76),\n",
       " (26, 78.57000000000001),\n",
       " (27, 81.35000000000001),\n",
       " (28, 84.12),\n",
       " (29, 86.87),\n",
       " (30, 89.62),\n",
       " (31, 92.35000000000001),\n",
       " (32, 94.92000000000002),\n",
       " (33, 97.27000000000001),\n",
       " (34, 99.19000000000001),\n",
       " (35, 99.60000000000001),\n",
       " (36, 99.9)]"
      ]
     },
     "execution_count": 63,
     "metadata": {},
     "output_type": "execute_result"
    }
   ],
   "source": [
    "arr = np.cumsum(np.round(pca.explained_variance_ratio_, decimals=4)*100)\n",
    "list(zip(range(1,len(arr)), arr))"
   ]
  },
  {
   "cell_type": "code",
   "execution_count": 64,
   "metadata": {},
   "outputs": [],
   "source": [
    "pca_10 = PCA(n_components=33)\n",
    "X_train_pca = pca_10.fit_transform(X_train_pca)\n",
    "X_test_pca = pca_10.transform(X_test_pca)"
   ]
  },
  {
   "cell_type": "code",
   "execution_count": 65,
   "metadata": {},
   "outputs": [
    {
     "data": {
      "image/png": "[encoded data removed]",
      "text/plain": [
       "<Figure size 1080x1080 with 2 Axes>"
      ]
     },
     "metadata": {
      "needs_background": "light"
     },
     "output_type": "display_data"
    }
   ],
   "source": [
    "plt.figure(figsize=(15,15))\n",
    "corr = pd.DataFrame(X_train_pca).corr()\n",
    "corr.index = pd.DataFrame(X_train_pca).columns\n",
    "sns.heatmap(corr, cmap='RdYlGn', vmin=-1, vmax=1, square=True)\n",
    "plt.title(\"Correlation Heatmap\", fontsize=16)\n",
    "plt.show()"
   ]
  },
  {
   "cell_type": "code",
   "execution_count": 66,
   "metadata": {},
   "outputs": [
    {
     "data": {
      "text/plain": [
       "LinearRegression(copy_X=True, fit_intercept=True, n_jobs=None,\n",
       "         normalize=False)"
      ]
     },
     "execution_count": 66,
     "metadata": {},
     "output_type": "execute_result"
    }
   ],
   "source": [
    "regressor = LinearRegression() \n",
    "regressor.fit(X_train,y_train) \n",
    "\n",
    "#Linear regressor for the Feature selection group\n",
    "regressor1 = LinearRegression() \n",
    "regressor1.fit(X_train_fs,y_train_fs) \n",
    "\n",
    "#Linear regressor for the Feature extraction group\n",
    "regressor2 = LinearRegression() \n",
    "regressor2.fit(X_train_pca,y_train_pca)"
   ]
  },
  {
   "cell_type": "code",
   "execution_count": 67,
   "metadata": {},
   "outputs": [],
   "source": [
    "#Predict from the test features of raw data\n",
    "y_pred = regressor.predict(X_test) \n",
    "\n",
    "#Predict from the test features of Feature Selection group\n",
    "y_pred = regressor1.predict(X_test_fs) \n",
    "\n",
    "#Predict from the test features of Feature Extraction group\n",
    "y_pred_pca = regressor2.predict(X_test_pca) "
   ]
  },
  {
   "cell_type": "code",
   "execution_count": 68,
   "metadata": {},
   "outputs": [
    {
     "name": "stdout",
     "output_type": "stream",
     "text": [
      "RMSE score for the Multiple LR raw is : 320.57187239197054\n",
      "Variance score for the Multiple LR raw is : 0.66\n",
      "\n",
      "\n",
      "RMSE score for the Multiple LR FS is : 320.57187239197054\n",
      "Variance score for the Multiple LR FS is : 0.66\n",
      "\n",
      "\n",
      "RMSE score for the Multiple LR PCA is : 440.98963197027706\n",
      "Variance score for the Multiple LR PCA is : 0.36\n"
     ]
    }
   ],
   "source": [
    "print('RMSE score for the Multiple LR raw is : {}'.format(np.sqrt(metrics.mean_squared_error(y_test,y_pred))))\n",
    "print('Variance score for the Multiple LR raw is : %.2f' % regressor.score(X_test, y_test))\n",
    "print(\"\\n\")\n",
    "\n",
    "#Evaluate the regressor on the Feature selection group\n",
    "print('RMSE score for the Multiple LR FS is : {}'.format(np.sqrt(metrics.mean_squared_error(y_test_fs,y_pred))))\n",
    "print('Variance score for the Multiple LR FS is : %.2f' % regressor1.score(X_test_fs, y_test_fs))\n",
    "print(\"\\n\")\n",
    "\n",
    "print('RMSE score for the Multiple LR PCA is : {}'.format(np.sqrt(metrics.mean_squared_error(y_test_pca,y_pred_pca))))\n",
    "print('Variance score for the Multiple LR PCA is : %.2f' % regressor2.score(X_test_pca, y_test_pca))"
   ]
  },
  {
   "cell_type": "code",
   "execution_count": 69,
   "metadata": {},
   "outputs": [
    {
     "data": {
      "text/plain": [
       "(1039994, 37)"
      ]
     },
     "execution_count": 69,
     "metadata": {},
     "output_type": "execute_result"
    }
   ],
   "source": [
    "X_train.shape"
   ]
  },
  {
   "cell_type": "code",
   "execution_count": 70,
   "metadata": {},
   "outputs": [
    {
     "data": {
      "text/html": [
       "<div>\n",
       "<style scoped>\n",
       "    .dataframe tbody tr th:only-of-type {\n",
       "        vertical-align: middle;\n",
       "    }\n",
       "\n",
       "    .dataframe tbody tr th {\n",
       "        vertical-align: top;\n",
       "    }\n",
       "\n",
       "    .dataframe thead th {\n",
       "        text-align: right;\n",
       "    }\n",
       "</style>\n",
       "<table border=\"1\" class=\"dataframe\">\n",
       "  <thead>\n",
       "    <tr style=\"text-align: right;\">\n",
       "      <th></th>\n",
       "      <th>Value</th>\n",
       "    </tr>\n",
       "  </thead>\n",
       "  <tbody>\n",
       "    <tr>\n",
       "      <th>0 vs 37</th>\n",
       "      <td>0.718902</td>\n",
       "    </tr>\n",
       "    <tr>\n",
       "      <th>1 vs 37</th>\n",
       "      <td>-0.117446</td>\n",
       "    </tr>\n",
       "    <tr>\n",
       "      <th>20 vs 37</th>\n",
       "      <td>0.043720</td>\n",
       "    </tr>\n",
       "    <tr>\n",
       "      <th>21 vs 37</th>\n",
       "      <td>0.040842</td>\n",
       "    </tr>\n",
       "    <tr>\n",
       "      <th>33 vs 37</th>\n",
       "      <td>-0.038616</td>\n",
       "    </tr>\n",
       "    <tr>\n",
       "      <th>19 vs 37</th>\n",
       "      <td>0.038538</td>\n",
       "    </tr>\n",
       "    <tr>\n",
       "      <th>6 vs 37</th>\n",
       "      <td>0.037664</td>\n",
       "    </tr>\n",
       "    <tr>\n",
       "      <th>13 vs 37</th>\n",
       "      <td>-0.037562</td>\n",
       "    </tr>\n",
       "    <tr>\n",
       "      <th>11 vs 37</th>\n",
       "      <td>0.037470</td>\n",
       "    </tr>\n",
       "    <tr>\n",
       "      <th>22 vs 37</th>\n",
       "      <td>0.033508</td>\n",
       "    </tr>\n",
       "    <tr>\n",
       "      <th>25 vs 37</th>\n",
       "      <td>-0.028748</td>\n",
       "    </tr>\n",
       "    <tr>\n",
       "      <th>10 vs 37</th>\n",
       "      <td>0.026079</td>\n",
       "    </tr>\n",
       "    <tr>\n",
       "      <th>30 vs 37</th>\n",
       "      <td>-0.025192</td>\n",
       "    </tr>\n",
       "    <tr>\n",
       "      <th>14 vs 37</th>\n",
       "      <td>-0.024976</td>\n",
       "    </tr>\n",
       "    <tr>\n",
       "      <th>26 vs 37</th>\n",
       "      <td>-0.024628</td>\n",
       "    </tr>\n",
       "    <tr>\n",
       "      <th>34 vs 37</th>\n",
       "      <td>-0.022661</td>\n",
       "    </tr>\n",
       "    <tr>\n",
       "      <th>27 vs 37</th>\n",
       "      <td>-0.022395</td>\n",
       "    </tr>\n",
       "    <tr>\n",
       "      <th>5 vs 37</th>\n",
       "      <td>0.022050</td>\n",
       "    </tr>\n",
       "    <tr>\n",
       "      <th>18 vs 37</th>\n",
       "      <td>0.020521</td>\n",
       "    </tr>\n",
       "    <tr>\n",
       "      <th>32 vs 37</th>\n",
       "      <td>-0.019249</td>\n",
       "    </tr>\n",
       "    <tr>\n",
       "      <th>12 vs 37</th>\n",
       "      <td>0.019167</td>\n",
       "    </tr>\n",
       "    <tr>\n",
       "      <th>24 vs 37</th>\n",
       "      <td>-0.017747</td>\n",
       "    </tr>\n",
       "    <tr>\n",
       "      <th>3 vs 37</th>\n",
       "      <td>-0.016495</td>\n",
       "    </tr>\n",
       "    <tr>\n",
       "      <th>7 vs 37</th>\n",
       "      <td>0.016459</td>\n",
       "    </tr>\n",
       "    <tr>\n",
       "      <th>31 vs 37</th>\n",
       "      <td>-0.016007</td>\n",
       "    </tr>\n",
       "    <tr>\n",
       "      <th>2 vs 37</th>\n",
       "      <td>-0.015619</td>\n",
       "    </tr>\n",
       "    <tr>\n",
       "      <th>8 vs 37</th>\n",
       "      <td>-0.015363</td>\n",
       "    </tr>\n",
       "    <tr>\n",
       "      <th>17 vs 37</th>\n",
       "      <td>0.013732</td>\n",
       "    </tr>\n",
       "    <tr>\n",
       "      <th>9 vs 37</th>\n",
       "      <td>0.012293</td>\n",
       "    </tr>\n",
       "    <tr>\n",
       "      <th>16 vs 37</th>\n",
       "      <td>0.012157</td>\n",
       "    </tr>\n",
       "    <tr>\n",
       "      <th>28 vs 37</th>\n",
       "      <td>-0.012117</td>\n",
       "    </tr>\n",
       "    <tr>\n",
       "      <th>23 vs 37</th>\n",
       "      <td>0.010191</td>\n",
       "    </tr>\n",
       "    <tr>\n",
       "      <th>29 vs 37</th>\n",
       "      <td>-0.007552</td>\n",
       "    </tr>\n",
       "    <tr>\n",
       "      <th>4 vs 37</th>\n",
       "      <td>-0.003979</td>\n",
       "    </tr>\n",
       "    <tr>\n",
       "      <th>15 vs 37</th>\n",
       "      <td>0.003330</td>\n",
       "    </tr>\n",
       "    <tr>\n",
       "      <th>36 vs 37</th>\n",
       "      <td>0.002696</td>\n",
       "    </tr>\n",
       "    <tr>\n",
       "      <th>35 vs 37</th>\n",
       "      <td>-0.000620</td>\n",
       "    </tr>\n",
       "  </tbody>\n",
       "</table>\n",
       "</div>"
      ],
      "text/plain": [
       "             Value\n",
       "0 vs 37   0.718902\n",
       "1 vs 37  -0.117446\n",
       "20 vs 37  0.043720\n",
       "21 vs 37  0.040842\n",
       "33 vs 37 -0.038616\n",
       "19 vs 37  0.038538\n",
       "6 vs 37   0.037664\n",
       "13 vs 37 -0.037562\n",
       "11 vs 37  0.037470\n",
       "22 vs 37  0.033508\n",
       "25 vs 37 -0.028748\n",
       "10 vs 37  0.026079\n",
       "30 vs 37 -0.025192\n",
       "14 vs 37 -0.024976\n",
       "26 vs 37 -0.024628\n",
       "34 vs 37 -0.022661\n",
       "27 vs 37 -0.022395\n",
       "5 vs 37   0.022050\n",
       "18 vs 37  0.020521\n",
       "32 vs 37 -0.019249\n",
       "12 vs 37  0.019167\n",
       "24 vs 37 -0.017747\n",
       "3 vs 37  -0.016495\n",
       "7 vs 37   0.016459\n",
       "31 vs 37 -0.016007\n",
       "2 vs 37  -0.015619\n",
       "8 vs 37  -0.015363\n",
       "17 vs 37  0.013732\n",
       "9 vs 37   0.012293\n",
       "16 vs 37  0.012157\n",
       "28 vs 37 -0.012117\n",
       "23 vs 37  0.010191\n",
       "29 vs 37 -0.007552\n",
       "4 vs 37  -0.003979\n",
       "15 vs 37  0.003330\n",
       "36 vs 37  0.002696\n",
       "35 vs 37 -0.000620"
      ]
     },
     "execution_count": 70,
     "metadata": {},
     "output_type": "execute_result"
    }
   ],
   "source": [
    "#Find linear correlation of each feature with the target variable\n",
    "from scipy.stats import pearsonr\n",
    "df1 = pd.DataFrame(np.concatenate((X_train,y_train.reshape(len(y_train),1)),axis=1))\n",
    "df1.columns = df1.columns.astype(str)\n",
    "\n",
    "features = df1.iloc[:,:37].columns.tolist()\n",
    "target = df1.iloc[:,37].name\n",
    "\n",
    "correlations = {}\n",
    "for f in features:\n",
    "    data_temp = df1[[f,target]]\n",
    "    x1 = data_temp[f].values\n",
    "    x2 = data_temp[target].values\n",
    "    key = f + ' vs ' + target\n",
    "    correlations[key] = pearsonr(x1,x2)[0]\n",
    "    \n",
    "data_correlations = pd.DataFrame(correlations, index=['Value']).T\n",
    "data_correlations.loc[data_correlations['Value'].abs().sort_values(ascending=False).index]"
   ]
  },
  {
   "cell_type": "markdown",
   "metadata": {},
   "source": [
    "# Random Forest"
   ]
  },
  {
   "cell_type": "code",
   "execution_count": 71,
   "metadata": {},
   "outputs": [],
   "source": [
    "# specify parameters and distributions to sample from\n",
    "def report(results, n_top=3):\n",
    "    for i in range(1, n_top + 1):\n",
    "        candidates = np.flatnonzero(results['rank_test_score'] == i)\n",
    "        for candidate in candidates:\n",
    "            print(\"Model with rank: {0}\".format(i))\n",
    "            print(\"Mean validation score: {0:.3f} (std: {1:.3f})\".format(\n",
    "                  results['mean_test_score'][candidate],\n",
    "                  results['std_test_score'][candidate]))\n",
    "            print(\"Parameters: {0}\".format(results['params'][candidate]))\n",
    "            print(\"\")"
   ]
  },
  {
   "cell_type": "code",
   "execution_count": 72,
   "metadata": {},
   "outputs": [],
   "source": [
    "from sklearn.model_selection import RandomizedSearchCV\n",
    "from scipy.stats import randint as sp_randint\n",
    "from time import time"
   ]
  },
  {
   "cell_type": "code",
   "execution_count": 73,
   "metadata": {},
   "outputs": [],
   "source": [
    "regr1 = RandomForestRegressor()#max_features='sqrt',min_samples_leaf=4,min_samples_split=3,n_estimators=40, n_jobs=-1)\n"
   ]
  },
  {
   "cell_type": "code",
   "execution_count": 75,
   "metadata": {},
   "outputs": [
    {
     "name": "stdout",
     "output_type": "stream",
     "text": [
      "RandomizedSearchCV took 2317.94 seconds for 20 candidates parameter settings.\n",
      "Model with rank: 1\n",
      "Mean validation score: 0.965 (std: 0.003)\n",
      "Parameters: {'max_depth': None, 'max_features': 'log2', 'min_samples_leaf': 1, 'min_samples_split': 6, 'n_estimators': 40}\n",
      "\n",
      "Model with rank: 2\n",
      "Mean validation score: 0.965 (std: 0.002)\n",
      "Parameters: {'max_depth': None, 'max_features': 'sqrt', 'min_samples_leaf': 4, 'min_samples_split': 10, 'n_estimators': 40}\n",
      "\n",
      "Model with rank: 3\n",
      "Mean validation score: 0.964 (std: 0.003)\n",
      "Parameters: {'max_depth': None, 'max_features': 'sqrt', 'min_samples_leaf': 4, 'min_samples_split': 10, 'n_estimators': 45}\n",
      "\n"
     ]
    }
   ],
   "source": [
    "param_dist = {\"max_depth\": [3, None],\n",
    "              \"max_features\": ['sqrt' , 'log2' ],\n",
    "              \"min_samples_split\": sp_randint(2, 11),\n",
    "              \"min_samples_leaf\": sp_randint(1, 11),\n",
    "              \"n_estimators\":[35,40,45]\n",
    "              }\n",
    "\n",
    "# run randomized search\n",
    "n_iter_search = 20\n",
    "random_search = RandomizedSearchCV(regr1, param_distributions=param_dist,\n",
    "                                   n_iter=n_iter_search)\n",
    "\n",
    "start = time()\n",
    "random_search.fit(X_train, y_train)\n",
    "\n",
    "print(\"RandomizedSearchCV took %.2f seconds for %d candidates\"\n",
    "      \" parameter settings.\" % ((time() - start), n_iter_search))\n",
    "report(random_search.cv_results_)"
   ]
  },
  {
   "cell_type": "code",
   "execution_count": 76,
   "metadata": {},
   "outputs": [
    {
     "name": "stdout",
     "output_type": "stream",
     "text": [
      "Model with rank: 1\n",
      "Mean validation score: 0.965 (std: 0.003)\n",
      "Parameters: {'max_depth': None, 'max_features': 'log2', 'min_samples_leaf': 1, 'min_samples_split': 6, 'n_estimators': 40}\n",
      "\n",
      "Model with rank: 2\n",
      "Mean validation score: 0.965 (std: 0.002)\n",
      "Parameters: {'max_depth': None, 'max_features': 'sqrt', 'min_samples_leaf': 4, 'min_samples_split': 10, 'n_estimators': 40}\n",
      "\n",
      "Model with rank: 3\n",
      "Mean validation score: 0.964 (std: 0.003)\n",
      "Parameters: {'max_depth': None, 'max_features': 'sqrt', 'min_samples_leaf': 4, 'min_samples_split': 10, 'n_estimators': 45}\n",
      "\n"
     ]
    }
   ],
   "source": [
    "report(random_search.cv_results_)"
   ]
  },
  {
   "cell_type": "markdown",
   "metadata": {},
   "source": [
    "# XGBoost"
   ]
  },
  {
   "cell_type": "code",
   "execution_count": 77,
   "metadata": {},
   "outputs": [],
   "source": [
    "import xgboost as xgb"
   ]
  },
  {
   "cell_type": "code",
   "execution_count": 78,
   "metadata": {},
   "outputs": [
    {
     "name": "stdout",
     "output_type": "stream",
     "text": [
      "RandomizedSearchCV took 7466.57 seconds for 20 candidates parameter settings.\n",
      "Model with rank: 1\n",
      "Mean validation score: 0.998 (std: 0.000)\n",
      "Parameters: {'nthread': 4, 'min_child_weight': 3, 'max_depth': 5, 'gamma': 0.1, 'colsample_bytree': 0.9}\n",
      "\n",
      "Model with rank: 2\n",
      "Mean validation score: 0.997 (std: 0.000)\n",
      "Parameters: {'nthread': 3, 'min_child_weight': 4, 'max_depth': 4, 'gamma': 0.1, 'colsample_bytree': 0.9}\n",
      "\n",
      "Model with rank: 2\n",
      "Mean validation score: 0.997 (std: 0.000)\n",
      "Parameters: {'nthread': 3, 'min_child_weight': 4, 'max_depth': 4, 'gamma': 0.2, 'colsample_bytree': 0.9}\n",
      "\n"
     ]
    }
   ],
   "source": [
    "x_model = xgb.XGBRegressor()\n",
    "param_dist = {\"max_depth\": [3, 4,5],\n",
    "              \"min_child_weight\": [3, 4,5,6],\n",
    "              \"gamma\":[0,0.1,0.2],\n",
    "              \"colsample_bytree\":[0.7,0.8,0.9],\n",
    "              \"nthread\":[3,4,5]\n",
    "              }\n",
    "\n",
    "# run randomized search\n",
    "n_iter_search = 20\n",
    "random_search = RandomizedSearchCV(x_model, param_distributions=param_dist,\n",
    "                                   n_iter=n_iter_search)\n",
    "\n",
    "start = time()\n",
    "random_search.fit(X_train, y_train)\n",
    "\n",
    "print(\"RandomizedSearchCV took %.2f seconds for %d candidates\"\n",
    "      \" parameter settings.\" % ((time() - start), n_iter_search))\n",
    "report(random_search.cv_results_)"
   ]
  },
  {
   "cell_type": "code",
   "execution_count": null,
   "metadata": {},
   "outputs": [],
   "source": []
  }
 ],
 "metadata": {
  "kernelspec": {
   "display_name": "Python 3",
   "language": "python",
   "name": "python3"
  },
  "language_info": {
   "codemirror_mode": {
    "name": "ipython",
    "version": 3
   },
   "file_extension": ".py",
   "mimetype": "text/x-python",
   "name": "python",
   "nbconvert_exporter": "python",
   "pygments_lexer": "ipython3",
   "version": "3.7.1"
  }
 },
 "nbformat": 4,
 "nbformat_minor": 2
}
