{
 "cells": [
  {
   "cell_type": "code",
   "execution_count": 1,
   "metadata": {},
   "outputs": [],
   "source": [
    "import numpy as np\n",
    "import pandas as pd\n",
    "import seaborn as sns\n",
    "import matplotlib.pyplot as plt\n",
    "import datetime as dt\n",
    "from sklearn.linear_model import LinearRegression\n",
    "from sklearn.ensemble import RandomForestRegressor\n",
    "from xgboost import XGBRegressor\n",
    "from sklearn import metrics\n",
    "from sklearn.model_selection import train_test_split, GridSearchCV\n",
    "from haversine import haversine\n",
    "import statsmodels.formula.api as sm\n",
    "from sklearn.model_selection import learning_curve\n",
    "from sklearn.model_selection import ShuffleSplit\n",
    "import warnings; warnings.simplefilter('ignore')"
   ]
  },
  {
   "cell_type": "code",
   "execution_count": 2,
   "metadata": {},
   "outputs": [],
   "source": [
    "#import the data from a csv file.\n",
    "data = pd.read_csv(\"Sampledata.csv\", index_col = 0)"
   ]
  },
  {
   "cell_type": "code",
   "execution_count": 3,
   "metadata": {
    "scrolled": false
   },
   "outputs": [
    {
     "data": {
      "text/html": [
       "<div>\n",
       "<style scoped>\n",
       "    .dataframe tbody tr th:only-of-type {\n",
       "        vertical-align: middle;\n",
       "    }\n",
       "\n",
       "    .dataframe tbody tr th {\n",
       "        vertical-align: top;\n",
       "    }\n",
       "\n",
       "    .dataframe thead th {\n",
       "        text-align: right;\n",
       "    }\n",
       "</style>\n",
       "<table border=\"1\" class=\"dataframe\">\n",
       "  <thead>\n",
       "    <tr style=\"text-align: right;\">\n",
       "      <th></th>\n",
       "      <th>pickup_datetime</th>\n",
       "      <th>duration</th>\n",
       "      <th>pickup_x</th>\n",
       "      <th>pickup_y</th>\n",
       "      <th>dropoff_x</th>\n",
       "      <th>dropoff_y</th>\n",
       "    </tr>\n",
       "  </thead>\n",
       "  <tbody>\n",
       "    <tr>\n",
       "      <th>306292</th>\n",
       "      <td>2034-03-17 13:20:06</td>\n",
       "      <td>820</td>\n",
       "      <td>114.183260</td>\n",
       "      <td>447.522979</td>\n",
       "      <td>57.259465</td>\n",
       "      <td>550.390795</td>\n",
       "    </tr>\n",
       "    <tr>\n",
       "      <th>946559</th>\n",
       "      <td>2034-04-03 19:17:16</td>\n",
       "      <td>158</td>\n",
       "      <td>156.133477</td>\n",
       "      <td>369.467962</td>\n",
       "      <td>155.501321</td>\n",
       "      <td>362.302553</td>\n",
       "    </tr>\n",
       "    <tr>\n",
       "      <th>619330</th>\n",
       "      <td>2034-01-16 21:07:01</td>\n",
       "      <td>238</td>\n",
       "      <td>152.287433</td>\n",
       "      <td>308.425885</td>\n",
       "      <td>163.324297</td>\n",
       "      <td>325.564501</td>\n",
       "    </tr>\n",
       "    <tr>\n",
       "      <th>1262444</th>\n",
       "      <td>2034-03-17 10:27:55</td>\n",
       "      <td>681</td>\n",
       "      <td>138.671000</td>\n",
       "      <td>328.503188</td>\n",
       "      <td>161.294155</td>\n",
       "      <td>311.626149</td>\n",
       "    </tr>\n",
       "    <tr>\n",
       "      <th>964120</th>\n",
       "      <td>2034-03-13 09:49:05</td>\n",
       "      <td>221</td>\n",
       "      <td>136.117200</td>\n",
       "      <td>312.080288</td>\n",
       "      <td>138.287227</td>\n",
       "      <td>319.631925</td>\n",
       "    </tr>\n",
       "  </tbody>\n",
       "</table>\n",
       "</div>"
      ],
      "text/plain": [
       "             pickup_datetime  duration    pickup_x    pickup_y   dropoff_x  \\\n",
       "306292   2034-03-17 13:20:06       820  114.183260  447.522979   57.259465   \n",
       "946559   2034-04-03 19:17:16       158  156.133477  369.467962  155.501321   \n",
       "619330   2034-01-16 21:07:01       238  152.287433  308.425885  163.324297   \n",
       "1262444  2034-03-17 10:27:55       681  138.671000  328.503188  161.294155   \n",
       "964120   2034-03-13 09:49:05       221  136.117200  312.080288  138.287227   \n",
       "\n",
       "          dropoff_y  \n",
       "306292   550.390795  \n",
       "946559   362.302553  \n",
       "619330   325.564501  \n",
       "1262444  311.626149  \n",
       "964120   319.631925  "
      ]
     },
     "execution_count": 3,
     "metadata": {},
     "output_type": "execute_result"
    }
   ],
   "source": [
    "data.head(5)"
   ]
  },
  {
   "cell_type": "code",
   "execution_count": 4,
   "metadata": {},
   "outputs": [
    {
     "data": {
      "text/plain": [
       "Index(['pickup_datetime', 'duration', 'pickup_x', 'pickup_y', 'dropoff_x',\n",
       "       'dropoff_y'],\n",
       "      dtype='object')"
      ]
     },
     "execution_count": 4,
     "metadata": {},
     "output_type": "execute_result"
    }
   ],
   "source": [
    "data.columns"
   ]
  },
  {
   "cell_type": "code",
   "execution_count": 5,
   "metadata": {},
   "outputs": [
    {
     "data": {
      "text/plain": [
       "(130000, 6)"
      ]
     },
     "execution_count": 5,
     "metadata": {},
     "output_type": "execute_result"
    }
   ],
   "source": [
    "data.shape"
   ]
  },
  {
   "cell_type": "code",
   "execution_count": 6,
   "metadata": {},
   "outputs": [],
   "source": [
    "data = data[data.duration != 0]"
   ]
  },
  {
   "cell_type": "code",
   "execution_count": 7,
   "metadata": {},
   "outputs": [
    {
     "data": {
      "text/plain": [
       "(129999, 6)"
      ]
     },
     "execution_count": 7,
     "metadata": {},
     "output_type": "execute_result"
    }
   ],
   "source": [
    "data.shape"
   ]
  },
  {
   "cell_type": "code",
   "execution_count": 8,
   "metadata": {},
   "outputs": [],
   "source": [
    "columns = [\"pickup_datetime\", \"duration\" ,\"pickup_x\" ,\"pickup_y\" ,\"dropoff_x\" ,\"dropoff_y\"]\n",
    "data = data[columns]"
   ]
  },
  {
   "cell_type": "code",
   "execution_count": 9,
   "metadata": {},
   "outputs": [
    {
     "data": {
      "text/plain": [
       "pickup_datetime    0\n",
       "duration           0\n",
       "pickup_x           0\n",
       "pickup_y           0\n",
       "dropoff_x          0\n",
       "dropoff_y          0\n",
       "dtype: int64"
      ]
     },
     "execution_count": 9,
     "metadata": {},
     "output_type": "execute_result"
    }
   ],
   "source": [
    "data.isna().sum()"
   ]
  },
  {
   "cell_type": "code",
   "execution_count": 10,
   "metadata": {},
   "outputs": [
    {
     "data": {
      "text/plain": [
       "306292    2034-03-17 13:20:06\n",
       "946559    2034-04-03 19:17:16\n",
       "619330    2034-01-16 21:07:01\n",
       "1262444   2034-03-17 10:27:55\n",
       "964120    2034-03-13 09:49:05\n",
       "Name: pickup_datetime, dtype: datetime64[ns]"
      ]
     },
     "execution_count": 10,
     "metadata": {},
     "output_type": "execute_result"
    }
   ],
   "source": [
    "#Convert timestamp to datetime format to fetch the other details as listed below\n",
    "data['pickup_datetime'] = pd.to_datetime(data['pickup_datetime'])\n",
    "data['pickup_datetime'].head()"
   ]
  },
  {
   "cell_type": "code",
   "execution_count": 11,
   "metadata": {},
   "outputs": [],
   "source": [
    "#Calculate and assign new columns to the dataframe such as weekday,\n",
    "#month and pickup_hour which will help us to gain more insights from the data.\n",
    "data['weekday'] = data.pickup_datetime.dt.weekday_name\n",
    "data['month'] = data.pickup_datetime.dt.month\n",
    "data['weekday_num'] = data.pickup_datetime.dt.weekday\n",
    "data['pickup_hour'] = data.pickup_datetime.dt.hour"
   ]
  },
  {
   "cell_type": "code",
   "execution_count": 12,
   "metadata": {},
   "outputs": [
    {
     "data": {
      "text/html": [
       "<div>\n",
       "<style scoped>\n",
       "    .dataframe tbody tr th:only-of-type {\n",
       "        vertical-align: middle;\n",
       "    }\n",
       "\n",
       "    .dataframe tbody tr th {\n",
       "        vertical-align: top;\n",
       "    }\n",
       "\n",
       "    .dataframe thead th {\n",
       "        text-align: right;\n",
       "    }\n",
       "</style>\n",
       "<table border=\"1\" class=\"dataframe\">\n",
       "  <thead>\n",
       "    <tr style=\"text-align: right;\">\n",
       "      <th></th>\n",
       "      <th>pickup_datetime</th>\n",
       "      <th>duration</th>\n",
       "      <th>pickup_x</th>\n",
       "      <th>pickup_y</th>\n",
       "      <th>dropoff_x</th>\n",
       "      <th>dropoff_y</th>\n",
       "      <th>weekday</th>\n",
       "      <th>month</th>\n",
       "      <th>weekday_num</th>\n",
       "      <th>pickup_hour</th>\n",
       "    </tr>\n",
       "  </thead>\n",
       "  <tbody>\n",
       "    <tr>\n",
       "      <th>306292</th>\n",
       "      <td>2034-03-17 13:20:06</td>\n",
       "      <td>820</td>\n",
       "      <td>114.183260</td>\n",
       "      <td>447.522979</td>\n",
       "      <td>57.259465</td>\n",
       "      <td>550.390795</td>\n",
       "      <td>Friday</td>\n",
       "      <td>3</td>\n",
       "      <td>4</td>\n",
       "      <td>13</td>\n",
       "    </tr>\n",
       "    <tr>\n",
       "      <th>946559</th>\n",
       "      <td>2034-04-03 19:17:16</td>\n",
       "      <td>158</td>\n",
       "      <td>156.133477</td>\n",
       "      <td>369.467962</td>\n",
       "      <td>155.501321</td>\n",
       "      <td>362.302553</td>\n",
       "      <td>Monday</td>\n",
       "      <td>4</td>\n",
       "      <td>0</td>\n",
       "      <td>19</td>\n",
       "    </tr>\n",
       "    <tr>\n",
       "      <th>619330</th>\n",
       "      <td>2034-01-16 21:07:01</td>\n",
       "      <td>238</td>\n",
       "      <td>152.287433</td>\n",
       "      <td>308.425885</td>\n",
       "      <td>163.324297</td>\n",
       "      <td>325.564501</td>\n",
       "      <td>Monday</td>\n",
       "      <td>1</td>\n",
       "      <td>0</td>\n",
       "      <td>21</td>\n",
       "    </tr>\n",
       "    <tr>\n",
       "      <th>1262444</th>\n",
       "      <td>2034-03-17 10:27:55</td>\n",
       "      <td>681</td>\n",
       "      <td>138.671000</td>\n",
       "      <td>328.503188</td>\n",
       "      <td>161.294155</td>\n",
       "      <td>311.626149</td>\n",
       "      <td>Friday</td>\n",
       "      <td>3</td>\n",
       "      <td>4</td>\n",
       "      <td>10</td>\n",
       "    </tr>\n",
       "    <tr>\n",
       "      <th>964120</th>\n",
       "      <td>2034-03-13 09:49:05</td>\n",
       "      <td>221</td>\n",
       "      <td>136.117200</td>\n",
       "      <td>312.080288</td>\n",
       "      <td>138.287227</td>\n",
       "      <td>319.631925</td>\n",
       "      <td>Monday</td>\n",
       "      <td>3</td>\n",
       "      <td>0</td>\n",
       "      <td>9</td>\n",
       "    </tr>\n",
       "  </tbody>\n",
       "</table>\n",
       "</div>"
      ],
      "text/plain": [
       "            pickup_datetime  duration    pickup_x    pickup_y   dropoff_x  \\\n",
       "306292  2034-03-17 13:20:06       820  114.183260  447.522979   57.259465   \n",
       "946559  2034-04-03 19:17:16       158  156.133477  369.467962  155.501321   \n",
       "619330  2034-01-16 21:07:01       238  152.287433  308.425885  163.324297   \n",
       "1262444 2034-03-17 10:27:55       681  138.671000  328.503188  161.294155   \n",
       "964120  2034-03-13 09:49:05       221  136.117200  312.080288  138.287227   \n",
       "\n",
       "          dropoff_y weekday  month  weekday_num  pickup_hour  \n",
       "306292   550.390795  Friday      3            4           13  \n",
       "946559   362.302553  Monday      4            0           19  \n",
       "619330   325.564501  Monday      1            0           21  \n",
       "1262444  311.626149  Friday      3            4           10  \n",
       "964120   319.631925  Monday      3            0            9  "
      ]
     },
     "execution_count": 12,
     "metadata": {},
     "output_type": "execute_result"
    }
   ],
   "source": [
    "data.head()"
   ]
  },
  {
   "cell_type": "code",
   "execution_count": 13,
   "metadata": {
    "scrolled": true
   },
   "outputs": [
    {
     "data": {
      "text/plain": [
       "array(['Friday', 'Monday', 'Thursday', 'Wednesday', 'Saturday', 'Sunday',\n",
       "       'Tuesday'], dtype=object)"
      ]
     },
     "execution_count": 13,
     "metadata": {},
     "output_type": "execute_result"
    }
   ],
   "source": [
    "data['weekday'].unique()"
   ]
  },
  {
   "cell_type": "markdown",
   "metadata": {},
   "source": [
    "# Calculating Distance"
   ]
  },
  {
   "cell_type": "code",
   "execution_count": 14,
   "metadata": {},
   "outputs": [],
   "source": [
    "#calc_distance is a function to calculate distance between pickup and dropoff coordinates using Haversine formula.\n",
    "def calc_distance(df):\n",
    "    pickup = (df['pickup_x'], df['pickup_y'])\n",
    "    drop = (df['dropoff_x'], df['dropoff_y'])\n",
    "    return haversine(pickup, drop)"
   ]
  },
  {
   "cell_type": "markdown",
   "metadata": {},
   "source": [
    "# Clustering"
   ]
  },
  {
   "cell_type": "code",
   "execution_count": 15,
   "metadata": {},
   "outputs": [],
   "source": [
    "df_pickup = data.filter(['duration','pickup_x', 'pickup_y'], axis=1)\n",
    "df_drop = data.filter(['duration','dropoff_x', 'dropoff_y'], axis=1)\n",
    "\n",
    "#df_clustering = data['pickup_x', 'pickup_y','dropoff_x', 'dropoff_y']"
   ]
  },
  {
   "cell_type": "code",
   "execution_count": 16,
   "metadata": {},
   "outputs": [
    {
     "data": {
      "text/plain": [
       "(129999, 3)"
      ]
     },
     "execution_count": 16,
     "metadata": {},
     "output_type": "execute_result"
    }
   ],
   "source": [
    "df_pickup.shape"
   ]
  },
  {
   "cell_type": "code",
   "execution_count": 17,
   "metadata": {},
   "outputs": [],
   "source": [
    "df_pickup.columns = ['duration','x','y']\n",
    "df_drop.columns = ['duration','x','y']"
   ]
  },
  {
   "cell_type": "code",
   "execution_count": 18,
   "metadata": {},
   "outputs": [
    {
     "data": {
      "text/html": [
       "<div>\n",
       "<style scoped>\n",
       "    .dataframe tbody tr th:only-of-type {\n",
       "        vertical-align: middle;\n",
       "    }\n",
       "\n",
       "    .dataframe tbody tr th {\n",
       "        vertical-align: top;\n",
       "    }\n",
       "\n",
       "    .dataframe thead th {\n",
       "        text-align: right;\n",
       "    }\n",
       "</style>\n",
       "<table border=\"1\" class=\"dataframe\">\n",
       "  <thead>\n",
       "    <tr style=\"text-align: right;\">\n",
       "      <th></th>\n",
       "      <th>duration</th>\n",
       "      <th>x</th>\n",
       "      <th>y</th>\n",
       "    </tr>\n",
       "  </thead>\n",
       "  <tbody>\n",
       "    <tr>\n",
       "      <th>306292</th>\n",
       "      <td>820</td>\n",
       "      <td>57.259465</td>\n",
       "      <td>550.390795</td>\n",
       "    </tr>\n",
       "    <tr>\n",
       "      <th>946559</th>\n",
       "      <td>158</td>\n",
       "      <td>155.501321</td>\n",
       "      <td>362.302553</td>\n",
       "    </tr>\n",
       "    <tr>\n",
       "      <th>619330</th>\n",
       "      <td>238</td>\n",
       "      <td>163.324297</td>\n",
       "      <td>325.564501</td>\n",
       "    </tr>\n",
       "    <tr>\n",
       "      <th>1262444</th>\n",
       "      <td>681</td>\n",
       "      <td>161.294155</td>\n",
       "      <td>311.626149</td>\n",
       "    </tr>\n",
       "    <tr>\n",
       "      <th>964120</th>\n",
       "      <td>221</td>\n",
       "      <td>138.287227</td>\n",
       "      <td>319.631925</td>\n",
       "    </tr>\n",
       "  </tbody>\n",
       "</table>\n",
       "</div>"
      ],
      "text/plain": [
       "         duration           x           y\n",
       "306292        820   57.259465  550.390795\n",
       "946559        158  155.501321  362.302553\n",
       "619330        238  163.324297  325.564501\n",
       "1262444       681  161.294155  311.626149\n",
       "964120        221  138.287227  319.631925"
      ]
     },
     "execution_count": 18,
     "metadata": {},
     "output_type": "execute_result"
    }
   ],
   "source": [
    "df_drop.head()"
   ]
  },
  {
   "cell_type": "code",
   "execution_count": 59,
   "metadata": {},
   "outputs": [
    {
     "data": {
      "text/plain": [
       "(129999, 3)"
      ]
     },
     "execution_count": 59,
     "metadata": {},
     "output_type": "execute_result"
    }
   ],
   "source": [
    "df_drop.shape"
   ]
  },
  {
   "cell_type": "code",
   "execution_count": 19,
   "metadata": {},
   "outputs": [],
   "source": [
    "frames = [df_pickup,df_drop]"
   ]
  },
  {
   "cell_type": "code",
   "execution_count": 20,
   "metadata": {},
   "outputs": [],
   "source": [
    "df_final = pd.concat(frames, axis=0)"
   ]
  },
  {
   "cell_type": "code",
   "execution_count": 21,
   "metadata": {
    "scrolled": true
   },
   "outputs": [
    {
     "data": {
      "text/html": [
       "<div>\n",
       "<style scoped>\n",
       "    .dataframe tbody tr th:only-of-type {\n",
       "        vertical-align: middle;\n",
       "    }\n",
       "\n",
       "    .dataframe tbody tr th {\n",
       "        vertical-align: top;\n",
       "    }\n",
       "\n",
       "    .dataframe thead th {\n",
       "        text-align: right;\n",
       "    }\n",
       "</style>\n",
       "<table border=\"1\" class=\"dataframe\">\n",
       "  <thead>\n",
       "    <tr style=\"text-align: right;\">\n",
       "      <th></th>\n",
       "      <th>duration</th>\n",
       "      <th>x</th>\n",
       "      <th>y</th>\n",
       "    </tr>\n",
       "  </thead>\n",
       "  <tbody>\n",
       "    <tr>\n",
       "      <th>306292</th>\n",
       "      <td>820</td>\n",
       "      <td>114.183260</td>\n",
       "      <td>447.522979</td>\n",
       "    </tr>\n",
       "    <tr>\n",
       "      <th>946559</th>\n",
       "      <td>158</td>\n",
       "      <td>156.133477</td>\n",
       "      <td>369.467962</td>\n",
       "    </tr>\n",
       "    <tr>\n",
       "      <th>619330</th>\n",
       "      <td>238</td>\n",
       "      <td>152.287433</td>\n",
       "      <td>308.425885</td>\n",
       "    </tr>\n",
       "    <tr>\n",
       "      <th>1262444</th>\n",
       "      <td>681</td>\n",
       "      <td>138.671000</td>\n",
       "      <td>328.503188</td>\n",
       "    </tr>\n",
       "    <tr>\n",
       "      <th>964120</th>\n",
       "      <td>221</td>\n",
       "      <td>136.117200</td>\n",
       "      <td>312.080288</td>\n",
       "    </tr>\n",
       "  </tbody>\n",
       "</table>\n",
       "</div>"
      ],
      "text/plain": [
       "         duration           x           y\n",
       "306292        820  114.183260  447.522979\n",
       "946559        158  156.133477  369.467962\n",
       "619330        238  152.287433  308.425885\n",
       "1262444       681  138.671000  328.503188\n",
       "964120        221  136.117200  312.080288"
      ]
     },
     "execution_count": 21,
     "metadata": {},
     "output_type": "execute_result"
    }
   ],
   "source": [
    "df_final.head()"
   ]
  },
  {
   "cell_type": "code",
   "execution_count": 22,
   "metadata": {},
   "outputs": [
    {
     "data": {
      "text/plain": [
       "(259998, 3)"
      ]
     },
     "execution_count": 22,
     "metadata": {},
     "output_type": "execute_result"
    }
   ],
   "source": [
    "df_final.shape"
   ]
  },
  {
   "cell_type": "code",
   "execution_count": 72,
   "metadata": {},
   "outputs": [
    {
     "data": {
      "image/png": "[encoded data removed]",
      "text/plain": [
       "<Figure size 432x288 with 1 Axes>"
      ]
     },
     "metadata": {
      "needs_background": "light"
     },
     "output_type": "display_data"
    }
   ],
   "source": [
    "from sklearn.cluster import KMeans\n",
    "wcss = []\n",
    "for i in range(1, 50):\n",
    "  kmeans=KMeans(n_clusters=i, init='k-means++', max_iter= 300, n_init= 10, random_state= 0)\n",
    "  kmeans.fit(df_final[['x','y']])\n",
    "  wcss.append(kmeans.inertia_)\n",
    "plt.plot(range(1, 50),wcss)\n",
    "plt.title('The Elbow Method')\n",
    "plt.xlabel('Number of clusters K')\n",
    "plt.ylabel('Average Within-Cluster distance to Centroid (WCSS)')  \n",
    "plt.show()"
   ]
  },
  {
   "cell_type": "code",
   "execution_count": 24,
   "metadata": {},
   "outputs": [],
   "source": [
    "# Applying k-means\n",
    "from sklearn.cluster import KMeans\n",
    "kmeans=KMeans(n_clusters=15, init='k-means++', max_iter= 350, n_init= 10, random_state= 0)\n",
    "df_final.loc[:, 'cluster'] = kmeans.fit_predict(df_final[['x','y']])"
   ]
  },
  {
   "cell_type": "code",
   "execution_count": 25,
   "metadata": {},
   "outputs": [
    {
     "data": {
      "text/html": [
       "<div>\n",
       "<style scoped>\n",
       "    .dataframe tbody tr th:only-of-type {\n",
       "        vertical-align: middle;\n",
       "    }\n",
       "\n",
       "    .dataframe tbody tr th {\n",
       "        vertical-align: top;\n",
       "    }\n",
       "\n",
       "    .dataframe thead th {\n",
       "        text-align: right;\n",
       "    }\n",
       "</style>\n",
       "<table border=\"1\" class=\"dataframe\">\n",
       "  <thead>\n",
       "    <tr style=\"text-align: right;\">\n",
       "      <th></th>\n",
       "      <th>duration</th>\n",
       "      <th>x</th>\n",
       "      <th>y</th>\n",
       "      <th>cluster</th>\n",
       "    </tr>\n",
       "  </thead>\n",
       "  <tbody>\n",
       "    <tr>\n",
       "      <th>306292</th>\n",
       "      <td>820</td>\n",
       "      <td>114.183260</td>\n",
       "      <td>447.522979</td>\n",
       "      <td>1</td>\n",
       "    </tr>\n",
       "    <tr>\n",
       "      <th>946559</th>\n",
       "      <td>158</td>\n",
       "      <td>156.133477</td>\n",
       "      <td>369.467962</td>\n",
       "      <td>6</td>\n",
       "    </tr>\n",
       "    <tr>\n",
       "      <th>619330</th>\n",
       "      <td>238</td>\n",
       "      <td>152.287433</td>\n",
       "      <td>308.425885</td>\n",
       "      <td>0</td>\n",
       "    </tr>\n",
       "    <tr>\n",
       "      <th>1262444</th>\n",
       "      <td>681</td>\n",
       "      <td>138.671000</td>\n",
       "      <td>328.503188</td>\n",
       "      <td>18</td>\n",
       "    </tr>\n",
       "    <tr>\n",
       "      <th>964120</th>\n",
       "      <td>221</td>\n",
       "      <td>136.117200</td>\n",
       "      <td>312.080288</td>\n",
       "      <td>29</td>\n",
       "    </tr>\n",
       "  </tbody>\n",
       "</table>\n",
       "</div>"
      ],
      "text/plain": [
       "         duration           x           y  cluster\n",
       "306292        820  114.183260  447.522979        1\n",
       "946559        158  156.133477  369.467962        6\n",
       "619330        238  152.287433  308.425885        0\n",
       "1262444       681  138.671000  328.503188       18\n",
       "964120        221  136.117200  312.080288       29"
      ]
     },
     "execution_count": 25,
     "metadata": {},
     "output_type": "execute_result"
    }
   ],
   "source": [
    "df_final.head()"
   ]
  },
  {
   "cell_type": "code",
   "execution_count": 26,
   "metadata": {},
   "outputs": [
    {
     "data": {
      "text/plain": [
       "array([[  152.35291955,   310.78847651],\n",
       "       [  116.35107968,   442.04974026],\n",
       "       [  175.59138461,   348.73212371],\n",
       "       [  -32.15349184,   461.82207297],\n",
       "       [ 5284.01817359, -3304.26970507],\n",
       "       [   92.32459321,   301.25689173],\n",
       "       [  156.62198775,   361.8486004 ],\n",
       "       [  129.56960678,   316.87224338],\n",
       "       [  184.25506629,   365.28945755],\n",
       "       [ 2685.01316498,  1385.37309581],\n",
       "       [  147.69742092,   336.37567375],\n",
       "       [   44.34885145,   271.53653629],\n",
       "       [   -9.38821344,   628.66836833],\n",
       "       [  181.73802741,   129.93265529],\n",
       "       [  215.12514326,   423.21927732],\n",
       "       [  152.89779182,   347.82023213],\n",
       "       [   67.20872039,   346.0063806 ],\n",
       "       [  106.53201808,   342.19006852],\n",
       "       [  142.58084631,   323.38597973],\n",
       "       [  128.0485669 ,   290.06698825],\n",
       "       [  223.19380718,  -149.70337484],\n",
       "       [   54.22526175,   454.9142276 ],\n",
       "       [  163.62687345,   372.8712884 ],\n",
       "       [  157.56986616,   325.1741977 ],\n",
       "       [  127.78976336,   390.17893647],\n",
       "       [  300.03130347,   729.45702466],\n",
       "       [  163.02991982,   337.707765  ],\n",
       "       [  194.02108976,   488.51163971],\n",
       "       [  185.47679457,   391.42774218],\n",
       "       [  137.88382953,   305.14812603]])"
      ]
     },
     "execution_count": 26,
     "metadata": {},
     "output_type": "execute_result"
    }
   ],
   "source": [
    "kmeans.cluster_centers_"
   ]
  },
  {
   "cell_type": "code",
   "execution_count": 27,
   "metadata": {},
   "outputs": [
    {
     "data": {
      "text/html": [
       "<div>\n",
       "<style scoped>\n",
       "    .dataframe tbody tr th:only-of-type {\n",
       "        vertical-align: middle;\n",
       "    }\n",
       "\n",
       "    .dataframe tbody tr th {\n",
       "        vertical-align: top;\n",
       "    }\n",
       "\n",
       "    .dataframe thead th {\n",
       "        text-align: right;\n",
       "    }\n",
       "</style>\n",
       "<table border=\"1\" class=\"dataframe\">\n",
       "  <thead>\n",
       "    <tr style=\"text-align: right;\">\n",
       "      <th></th>\n",
       "      <th>duration</th>\n",
       "      <th>x</th>\n",
       "      <th>y</th>\n",
       "      <th>cluster</th>\n",
       "    </tr>\n",
       "  </thead>\n",
       "  <tbody>\n",
       "    <tr>\n",
       "      <th>306292</th>\n",
       "      <td>820</td>\n",
       "      <td>114.183260</td>\n",
       "      <td>447.522979</td>\n",
       "      <td>1</td>\n",
       "    </tr>\n",
       "    <tr>\n",
       "      <th>946559</th>\n",
       "      <td>158</td>\n",
       "      <td>156.133477</td>\n",
       "      <td>369.467962</td>\n",
       "      <td>6</td>\n",
       "    </tr>\n",
       "    <tr>\n",
       "      <th>619330</th>\n",
       "      <td>238</td>\n",
       "      <td>152.287433</td>\n",
       "      <td>308.425885</td>\n",
       "      <td>0</td>\n",
       "    </tr>\n",
       "    <tr>\n",
       "      <th>1262444</th>\n",
       "      <td>681</td>\n",
       "      <td>138.671000</td>\n",
       "      <td>328.503188</td>\n",
       "      <td>18</td>\n",
       "    </tr>\n",
       "    <tr>\n",
       "      <th>964120</th>\n",
       "      <td>221</td>\n",
       "      <td>136.117200</td>\n",
       "      <td>312.080288</td>\n",
       "      <td>29</td>\n",
       "    </tr>\n",
       "  </tbody>\n",
       "</table>\n",
       "</div>"
      ],
      "text/plain": [
       "         duration           x           y  cluster\n",
       "306292        820  114.183260  447.522979        1\n",
       "946559        158  156.133477  369.467962        6\n",
       "619330        238  152.287433  308.425885        0\n",
       "1262444       681  138.671000  328.503188       18\n",
       "964120        221  136.117200  312.080288       29"
      ]
     },
     "execution_count": 27,
     "metadata": {},
     "output_type": "execute_result"
    }
   ],
   "source": [
    "df_final.head()"
   ]
  },
  {
   "cell_type": "code",
   "execution_count": 28,
   "metadata": {},
   "outputs": [],
   "source": [
    "df_save = df_final"
   ]
  },
  {
   "cell_type": "code",
   "execution_count": 35,
   "metadata": {},
   "outputs": [],
   "source": [
    "dp = pd.merge(df_pickup, df_final, on=['duration','x', 'y'], how = 'inner')"
   ]
  },
  {
   "cell_type": "code",
   "execution_count": 36,
   "metadata": {},
   "outputs": [
    {
     "data": {
      "text/plain": [
       "(129999, 4)"
      ]
     },
     "execution_count": 36,
     "metadata": {},
     "output_type": "execute_result"
    }
   ],
   "source": [
    "dp.shape"
   ]
  },
  {
   "cell_type": "code",
   "execution_count": 37,
   "metadata": {
    "scrolled": true
   },
   "outputs": [
    {
     "data": {
      "text/html": [
       "<div>\n",
       "<style scoped>\n",
       "    .dataframe tbody tr th:only-of-type {\n",
       "        vertical-align: middle;\n",
       "    }\n",
       "\n",
       "    .dataframe tbody tr th {\n",
       "        vertical-align: top;\n",
       "    }\n",
       "\n",
       "    .dataframe thead th {\n",
       "        text-align: right;\n",
       "    }\n",
       "</style>\n",
       "<table border=\"1\" class=\"dataframe\">\n",
       "  <thead>\n",
       "    <tr style=\"text-align: right;\">\n",
       "      <th></th>\n",
       "      <th>duration</th>\n",
       "      <th>x</th>\n",
       "      <th>y</th>\n",
       "      <th>cluster</th>\n",
       "    </tr>\n",
       "  </thead>\n",
       "  <tbody>\n",
       "    <tr>\n",
       "      <th>0</th>\n",
       "      <td>820</td>\n",
       "      <td>114.183260</td>\n",
       "      <td>447.522979</td>\n",
       "      <td>1</td>\n",
       "    </tr>\n",
       "    <tr>\n",
       "      <th>1</th>\n",
       "      <td>158</td>\n",
       "      <td>156.133477</td>\n",
       "      <td>369.467962</td>\n",
       "      <td>6</td>\n",
       "    </tr>\n",
       "    <tr>\n",
       "      <th>2</th>\n",
       "      <td>238</td>\n",
       "      <td>152.287433</td>\n",
       "      <td>308.425885</td>\n",
       "      <td>0</td>\n",
       "    </tr>\n",
       "    <tr>\n",
       "      <th>3</th>\n",
       "      <td>681</td>\n",
       "      <td>138.671000</td>\n",
       "      <td>328.503188</td>\n",
       "      <td>18</td>\n",
       "    </tr>\n",
       "    <tr>\n",
       "      <th>4</th>\n",
       "      <td>221</td>\n",
       "      <td>136.117200</td>\n",
       "      <td>312.080288</td>\n",
       "      <td>29</td>\n",
       "    </tr>\n",
       "  </tbody>\n",
       "</table>\n",
       "</div>"
      ],
      "text/plain": [
       "   duration           x           y  cluster\n",
       "0       820  114.183260  447.522979        1\n",
       "1       158  156.133477  369.467962        6\n",
       "2       238  152.287433  308.425885        0\n",
       "3       681  138.671000  328.503188       18\n",
       "4       221  136.117200  312.080288       29"
      ]
     },
     "execution_count": 37,
     "metadata": {},
     "output_type": "execute_result"
    }
   ],
   "source": [
    "dp.head(5)"
   ]
  },
  {
   "cell_type": "code",
   "execution_count": 63,
   "metadata": {},
   "outputs": [],
   "source": [
    "dp.columns = ['duration','pickup_x','pickup_y','pickup_cluster']"
   ]
  },
  {
   "cell_type": "code",
   "execution_count": 38,
   "metadata": {},
   "outputs": [
    {
     "data": {
      "text/plain": [
       "(259998, 4)"
      ]
     },
     "execution_count": 38,
     "metadata": {},
     "output_type": "execute_result"
    }
   ],
   "source": [
    "df_save.shape"
   ]
  },
  {
   "cell_type": "code",
   "execution_count": 60,
   "metadata": {},
   "outputs": [],
   "source": [
    "dd = pd.merge(df_drop, df_final, on=['duration','x', 'y'], how = 'left')"
   ]
  },
  {
   "cell_type": "code",
   "execution_count": 61,
   "metadata": {},
   "outputs": [
    {
     "data": {
      "text/plain": [
       "(130001, 4)"
      ]
     },
     "execution_count": 61,
     "metadata": {},
     "output_type": "execute_result"
    }
   ],
   "source": [
    "dd.shape"
   ]
  },
  {
   "cell_type": "code",
   "execution_count": 66,
   "metadata": {},
   "outputs": [],
   "source": [
    "dd.columns = ['duration','dropoff_x','dropoff_y','dropoff_cluster']"
   ]
  },
  {
   "cell_type": "code",
   "execution_count": 41,
   "metadata": {},
   "outputs": [
    {
     "data": {
      "text/html": [
       "<div>\n",
       "<style scoped>\n",
       "    .dataframe tbody tr th:only-of-type {\n",
       "        vertical-align: middle;\n",
       "    }\n",
       "\n",
       "    .dataframe tbody tr th {\n",
       "        vertical-align: top;\n",
       "    }\n",
       "\n",
       "    .dataframe thead th {\n",
       "        text-align: right;\n",
       "    }\n",
       "</style>\n",
       "<table border=\"1\" class=\"dataframe\">\n",
       "  <thead>\n",
       "    <tr style=\"text-align: right;\">\n",
       "      <th></th>\n",
       "      <th>duration</th>\n",
       "      <th>x</th>\n",
       "      <th>y</th>\n",
       "      <th>cluster</th>\n",
       "    </tr>\n",
       "  </thead>\n",
       "  <tbody>\n",
       "    <tr>\n",
       "      <th>0</th>\n",
       "      <td>820</td>\n",
       "      <td>57.259465</td>\n",
       "      <td>550.390795</td>\n",
       "      <td>21</td>\n",
       "    </tr>\n",
       "    <tr>\n",
       "      <th>1</th>\n",
       "      <td>158</td>\n",
       "      <td>155.501321</td>\n",
       "      <td>362.302553</td>\n",
       "      <td>6</td>\n",
       "    </tr>\n",
       "    <tr>\n",
       "      <th>2</th>\n",
       "      <td>238</td>\n",
       "      <td>163.324297</td>\n",
       "      <td>325.564501</td>\n",
       "      <td>23</td>\n",
       "    </tr>\n",
       "    <tr>\n",
       "      <th>3</th>\n",
       "      <td>681</td>\n",
       "      <td>161.294155</td>\n",
       "      <td>311.626149</td>\n",
       "      <td>0</td>\n",
       "    </tr>\n",
       "    <tr>\n",
       "      <th>4</th>\n",
       "      <td>221</td>\n",
       "      <td>138.287227</td>\n",
       "      <td>319.631925</td>\n",
       "      <td>18</td>\n",
       "    </tr>\n",
       "  </tbody>\n",
       "</table>\n",
       "</div>"
      ],
      "text/plain": [
       "   duration           x           y  cluster\n",
       "0       820   57.259465  550.390795       21\n",
       "1       158  155.501321  362.302553        6\n",
       "2       238  163.324297  325.564501       23\n",
       "3       681  161.294155  311.626149        0\n",
       "4       221  138.287227  319.631925       18"
      ]
     },
     "execution_count": 41,
     "metadata": {},
     "output_type": "execute_result"
    }
   ],
   "source": [
    "dd.head(5)"
   ]
  },
  {
   "cell_type": "code",
   "execution_count": 57,
   "metadata": {},
   "outputs": [
    {
     "data": {
      "text/plain": [
       "pandas.core.series.Series"
      ]
     },
     "execution_count": 57,
     "metadata": {},
     "output_type": "execute_result"
    }
   ],
   "source": [
    "type(x)"
   ]
  },
  {
   "cell_type": "code",
   "execution_count": 64,
   "metadata": {},
   "outputs": [],
   "source": [
    "data = pd.merge(dp, data, on=['duration','pickup_x', 'pickup_y'], how = 'inner')"
   ]
  },
  {
   "cell_type": "code",
   "execution_count": 65,
   "metadata": {},
   "outputs": [
    {
     "data": {
      "text/html": [
       "<div>\n",
       "<style scoped>\n",
       "    .dataframe tbody tr th:only-of-type {\n",
       "        vertical-align: middle;\n",
       "    }\n",
       "\n",
       "    .dataframe tbody tr th {\n",
       "        vertical-align: top;\n",
       "    }\n",
       "\n",
       "    .dataframe thead th {\n",
       "        text-align: right;\n",
       "    }\n",
       "</style>\n",
       "<table border=\"1\" class=\"dataframe\">\n",
       "  <thead>\n",
       "    <tr style=\"text-align: right;\">\n",
       "      <th></th>\n",
       "      <th>duration</th>\n",
       "      <th>pickup_x</th>\n",
       "      <th>pickup_y</th>\n",
       "      <th>pickup_cluster</th>\n",
       "      <th>pickup_datetime</th>\n",
       "      <th>dropoff_x</th>\n",
       "      <th>dropoff_y</th>\n",
       "      <th>weekday</th>\n",
       "      <th>month</th>\n",
       "      <th>weekday_num</th>\n",
       "      <th>pickup_hour</th>\n",
       "    </tr>\n",
       "  </thead>\n",
       "  <tbody>\n",
       "    <tr>\n",
       "      <th>0</th>\n",
       "      <td>820</td>\n",
       "      <td>114.183260</td>\n",
       "      <td>447.522979</td>\n",
       "      <td>1</td>\n",
       "      <td>2034-03-17 13:20:06</td>\n",
       "      <td>57.259465</td>\n",
       "      <td>550.390795</td>\n",
       "      <td>Friday</td>\n",
       "      <td>3</td>\n",
       "      <td>4</td>\n",
       "      <td>13</td>\n",
       "    </tr>\n",
       "    <tr>\n",
       "      <th>1</th>\n",
       "      <td>158</td>\n",
       "      <td>156.133477</td>\n",
       "      <td>369.467962</td>\n",
       "      <td>6</td>\n",
       "      <td>2034-04-03 19:17:16</td>\n",
       "      <td>155.501321</td>\n",
       "      <td>362.302553</td>\n",
       "      <td>Monday</td>\n",
       "      <td>4</td>\n",
       "      <td>0</td>\n",
       "      <td>19</td>\n",
       "    </tr>\n",
       "    <tr>\n",
       "      <th>2</th>\n",
       "      <td>238</td>\n",
       "      <td>152.287433</td>\n",
       "      <td>308.425885</td>\n",
       "      <td>0</td>\n",
       "      <td>2034-01-16 21:07:01</td>\n",
       "      <td>163.324297</td>\n",
       "      <td>325.564501</td>\n",
       "      <td>Monday</td>\n",
       "      <td>1</td>\n",
       "      <td>0</td>\n",
       "      <td>21</td>\n",
       "    </tr>\n",
       "    <tr>\n",
       "      <th>3</th>\n",
       "      <td>681</td>\n",
       "      <td>138.671000</td>\n",
       "      <td>328.503188</td>\n",
       "      <td>18</td>\n",
       "      <td>2034-03-17 10:27:55</td>\n",
       "      <td>161.294155</td>\n",
       "      <td>311.626149</td>\n",
       "      <td>Friday</td>\n",
       "      <td>3</td>\n",
       "      <td>4</td>\n",
       "      <td>10</td>\n",
       "    </tr>\n",
       "    <tr>\n",
       "      <th>4</th>\n",
       "      <td>221</td>\n",
       "      <td>136.117200</td>\n",
       "      <td>312.080288</td>\n",
       "      <td>29</td>\n",
       "      <td>2034-03-13 09:49:05</td>\n",
       "      <td>138.287227</td>\n",
       "      <td>319.631925</td>\n",
       "      <td>Monday</td>\n",
       "      <td>3</td>\n",
       "      <td>0</td>\n",
       "      <td>9</td>\n",
       "    </tr>\n",
       "  </tbody>\n",
       "</table>\n",
       "</div>"
      ],
      "text/plain": [
       "   duration    pickup_x    pickup_y  pickup_cluster     pickup_datetime  \\\n",
       "0       820  114.183260  447.522979               1 2034-03-17 13:20:06   \n",
       "1       158  156.133477  369.467962               6 2034-04-03 19:17:16   \n",
       "2       238  152.287433  308.425885               0 2034-01-16 21:07:01   \n",
       "3       681  138.671000  328.503188              18 2034-03-17 10:27:55   \n",
       "4       221  136.117200  312.080288              29 2034-03-13 09:49:05   \n",
       "\n",
       "    dropoff_x   dropoff_y weekday  month  weekday_num  pickup_hour  \n",
       "0   57.259465  550.390795  Friday      3            4           13  \n",
       "1  155.501321  362.302553  Monday      4            0           19  \n",
       "2  163.324297  325.564501  Monday      1            0           21  \n",
       "3  161.294155  311.626149  Friday      3            4           10  \n",
       "4  138.287227  319.631925  Monday      3            0            9  "
      ]
     },
     "execution_count": 65,
     "metadata": {},
     "output_type": "execute_result"
    }
   ],
   "source": [
    "data.head(5)"
   ]
  },
  {
   "cell_type": "code",
   "execution_count": 67,
   "metadata": {},
   "outputs": [],
   "source": [
    "data = pd.merge(dd, data, on=['duration','dropoff_x', 'dropoff_y'], how = 'inner')"
   ]
  },
  {
   "cell_type": "code",
   "execution_count": 68,
   "metadata": {},
   "outputs": [
    {
     "data": {
      "text/html": [
       "<div>\n",
       "<style scoped>\n",
       "    .dataframe tbody tr th:only-of-type {\n",
       "        vertical-align: middle;\n",
       "    }\n",
       "\n",
       "    .dataframe tbody tr th {\n",
       "        vertical-align: top;\n",
       "    }\n",
       "\n",
       "    .dataframe thead th {\n",
       "        text-align: right;\n",
       "    }\n",
       "</style>\n",
       "<table border=\"1\" class=\"dataframe\">\n",
       "  <thead>\n",
       "    <tr style=\"text-align: right;\">\n",
       "      <th></th>\n",
       "      <th>duration</th>\n",
       "      <th>dropoff_x</th>\n",
       "      <th>dropoff_y</th>\n",
       "      <th>dropoff_cluster</th>\n",
       "      <th>pickup_x</th>\n",
       "      <th>pickup_y</th>\n",
       "      <th>pickup_cluster</th>\n",
       "      <th>pickup_datetime</th>\n",
       "      <th>weekday</th>\n",
       "      <th>month</th>\n",
       "      <th>weekday_num</th>\n",
       "      <th>pickup_hour</th>\n",
       "    </tr>\n",
       "  </thead>\n",
       "  <tbody>\n",
       "    <tr>\n",
       "      <th>0</th>\n",
       "      <td>820</td>\n",
       "      <td>57.259465</td>\n",
       "      <td>550.390795</td>\n",
       "      <td>21</td>\n",
       "      <td>114.183260</td>\n",
       "      <td>447.522979</td>\n",
       "      <td>1</td>\n",
       "      <td>2034-03-17 13:20:06</td>\n",
       "      <td>Friday</td>\n",
       "      <td>3</td>\n",
       "      <td>4</td>\n",
       "      <td>13</td>\n",
       "    </tr>\n",
       "    <tr>\n",
       "      <th>1</th>\n",
       "      <td>158</td>\n",
       "      <td>155.501321</td>\n",
       "      <td>362.302553</td>\n",
       "      <td>6</td>\n",
       "      <td>156.133477</td>\n",
       "      <td>369.467962</td>\n",
       "      <td>6</td>\n",
       "      <td>2034-04-03 19:17:16</td>\n",
       "      <td>Monday</td>\n",
       "      <td>4</td>\n",
       "      <td>0</td>\n",
       "      <td>19</td>\n",
       "    </tr>\n",
       "    <tr>\n",
       "      <th>2</th>\n",
       "      <td>238</td>\n",
       "      <td>163.324297</td>\n",
       "      <td>325.564501</td>\n",
       "      <td>23</td>\n",
       "      <td>152.287433</td>\n",
       "      <td>308.425885</td>\n",
       "      <td>0</td>\n",
       "      <td>2034-01-16 21:07:01</td>\n",
       "      <td>Monday</td>\n",
       "      <td>1</td>\n",
       "      <td>0</td>\n",
       "      <td>21</td>\n",
       "    </tr>\n",
       "    <tr>\n",
       "      <th>3</th>\n",
       "      <td>681</td>\n",
       "      <td>161.294155</td>\n",
       "      <td>311.626149</td>\n",
       "      <td>0</td>\n",
       "      <td>138.671000</td>\n",
       "      <td>328.503188</td>\n",
       "      <td>18</td>\n",
       "      <td>2034-03-17 10:27:55</td>\n",
       "      <td>Friday</td>\n",
       "      <td>3</td>\n",
       "      <td>4</td>\n",
       "      <td>10</td>\n",
       "    </tr>\n",
       "    <tr>\n",
       "      <th>4</th>\n",
       "      <td>221</td>\n",
       "      <td>138.287227</td>\n",
       "      <td>319.631925</td>\n",
       "      <td>18</td>\n",
       "      <td>136.117200</td>\n",
       "      <td>312.080288</td>\n",
       "      <td>29</td>\n",
       "      <td>2034-03-13 09:49:05</td>\n",
       "      <td>Monday</td>\n",
       "      <td>3</td>\n",
       "      <td>0</td>\n",
       "      <td>9</td>\n",
       "    </tr>\n",
       "  </tbody>\n",
       "</table>\n",
       "</div>"
      ],
      "text/plain": [
       "   duration   dropoff_x   dropoff_y  dropoff_cluster    pickup_x    pickup_y  \\\n",
       "0       820   57.259465  550.390795               21  114.183260  447.522979   \n",
       "1       158  155.501321  362.302553                6  156.133477  369.467962   \n",
       "2       238  163.324297  325.564501               23  152.287433  308.425885   \n",
       "3       681  161.294155  311.626149                0  138.671000  328.503188   \n",
       "4       221  138.287227  319.631925               18  136.117200  312.080288   \n",
       "\n",
       "   pickup_cluster     pickup_datetime weekday  month  weekday_num  pickup_hour  \n",
       "0               1 2034-03-17 13:20:06  Friday      3            4           13  \n",
       "1               6 2034-04-03 19:17:16  Monday      4            0           19  \n",
       "2               0 2034-01-16 21:07:01  Monday      1            0           21  \n",
       "3              18 2034-03-17 10:27:55  Friday      3            4           10  \n",
       "4              29 2034-03-13 09:49:05  Monday      3            0            9  "
      ]
     },
     "execution_count": 68,
     "metadata": {},
     "output_type": "execute_result"
    }
   ],
   "source": [
    "data.head(5)"
   ]
  },
  {
   "cell_type": "code",
   "execution_count": 69,
   "metadata": {},
   "outputs": [
    {
     "data": {
      "text/plain": [
       "(130005, 12)"
      ]
     },
     "execution_count": 69,
     "metadata": {},
     "output_type": "execute_result"
    }
   ],
   "source": [
    "data.shape"
   ]
  },
  {
   "cell_type": "code",
   "execution_count": 70,
   "metadata": {},
   "outputs": [],
   "source": [
    "data = data[data.duration != 0]"
   ]
  },
  {
   "cell_type": "code",
   "execution_count": 71,
   "metadata": {},
   "outputs": [
    {
     "data": {
      "text/plain": [
       "(130005, 12)"
      ]
     },
     "execution_count": 71,
     "metadata": {},
     "output_type": "execute_result"
    }
   ],
   "source": [
    "data.shape"
   ]
  },
  {
   "cell_type": "code",
   "execution_count": 72,
   "metadata": {},
   "outputs": [
    {
     "data": {
      "text/plain": [
       "duration           0\n",
       "dropoff_x          0\n",
       "dropoff_y          0\n",
       "dropoff_cluster    0\n",
       "pickup_x           0\n",
       "pickup_y           0\n",
       "pickup_cluster     0\n",
       "pickup_datetime    0\n",
       "weekday            0\n",
       "month              0\n",
       "weekday_num        0\n",
       "pickup_hour        0\n",
       "dtype: int64"
      ]
     },
     "execution_count": 72,
     "metadata": {},
     "output_type": "execute_result"
    }
   ],
   "source": [
    "data.isna().sum()"
   ]
  },
  {
   "cell_type": "code",
   "execution_count": 73,
   "metadata": {},
   "outputs": [
    {
     "data": {
      "text/html": [
       "<div>\n",
       "<style scoped>\n",
       "    .dataframe tbody tr th:only-of-type {\n",
       "        vertical-align: middle;\n",
       "    }\n",
       "\n",
       "    .dataframe tbody tr th {\n",
       "        vertical-align: top;\n",
       "    }\n",
       "\n",
       "    .dataframe thead th {\n",
       "        text-align: right;\n",
       "    }\n",
       "</style>\n",
       "<table border=\"1\" class=\"dataframe\">\n",
       "  <thead>\n",
       "    <tr style=\"text-align: right;\">\n",
       "      <th></th>\n",
       "      <th>index</th>\n",
       "      <th>0</th>\n",
       "    </tr>\n",
       "  </thead>\n",
       "  <tbody>\n",
       "    <tr>\n",
       "      <th>0</th>\n",
       "      <td>duration</td>\n",
       "      <td>int64</td>\n",
       "    </tr>\n",
       "    <tr>\n",
       "      <th>1</th>\n",
       "      <td>dropoff_x</td>\n",
       "      <td>float64</td>\n",
       "    </tr>\n",
       "    <tr>\n",
       "      <th>2</th>\n",
       "      <td>dropoff_y</td>\n",
       "      <td>float64</td>\n",
       "    </tr>\n",
       "    <tr>\n",
       "      <th>3</th>\n",
       "      <td>dropoff_cluster</td>\n",
       "      <td>int32</td>\n",
       "    </tr>\n",
       "    <tr>\n",
       "      <th>4</th>\n",
       "      <td>pickup_x</td>\n",
       "      <td>float64</td>\n",
       "    </tr>\n",
       "    <tr>\n",
       "      <th>5</th>\n",
       "      <td>pickup_y</td>\n",
       "      <td>float64</td>\n",
       "    </tr>\n",
       "    <tr>\n",
       "      <th>6</th>\n",
       "      <td>pickup_cluster</td>\n",
       "      <td>int32</td>\n",
       "    </tr>\n",
       "    <tr>\n",
       "      <th>7</th>\n",
       "      <td>pickup_datetime</td>\n",
       "      <td>datetime64[ns]</td>\n",
       "    </tr>\n",
       "    <tr>\n",
       "      <th>8</th>\n",
       "      <td>weekday</td>\n",
       "      <td>object</td>\n",
       "    </tr>\n",
       "    <tr>\n",
       "      <th>9</th>\n",
       "      <td>month</td>\n",
       "      <td>int64</td>\n",
       "    </tr>\n",
       "    <tr>\n",
       "      <th>10</th>\n",
       "      <td>weekday_num</td>\n",
       "      <td>int64</td>\n",
       "    </tr>\n",
       "    <tr>\n",
       "      <th>11</th>\n",
       "      <td>pickup_hour</td>\n",
       "      <td>int64</td>\n",
       "    </tr>\n",
       "  </tbody>\n",
       "</table>\n",
       "</div>"
      ],
      "text/plain": [
       "              index               0\n",
       "0          duration           int64\n",
       "1         dropoff_x         float64\n",
       "2         dropoff_y         float64\n",
       "3   dropoff_cluster           int32\n",
       "4          pickup_x         float64\n",
       "5          pickup_y         float64\n",
       "6    pickup_cluster           int32\n",
       "7   pickup_datetime  datetime64[ns]\n",
       "8           weekday          object\n",
       "9             month           int64\n",
       "10      weekday_num           int64\n",
       "11      pickup_hour           int64"
      ]
     },
     "execution_count": 73,
     "metadata": {},
     "output_type": "execute_result"
    }
   ],
   "source": [
    "#Check the type of each variable\n",
    "data.dtypes.reset_index()"
   ]
  },
  {
   "cell_type": "code",
   "execution_count": 74,
   "metadata": {},
   "outputs": [],
   "source": [
    "data[['month', 'weekday_num', 'pickup_hour','pickup_cluster','dropoff_cluster']] = data[['month', 'weekday_num', 'pickup_hour','pickup_cluster','dropoff_cluster']].astype(str)"
   ]
  },
  {
   "cell_type": "code",
   "execution_count": 75,
   "metadata": {},
   "outputs": [
    {
     "data": {
      "text/html": [
       "<div>\n",
       "<style scoped>\n",
       "    .dataframe tbody tr th:only-of-type {\n",
       "        vertical-align: middle;\n",
       "    }\n",
       "\n",
       "    .dataframe tbody tr th {\n",
       "        vertical-align: top;\n",
       "    }\n",
       "\n",
       "    .dataframe thead th {\n",
       "        text-align: right;\n",
       "    }\n",
       "</style>\n",
       "<table border=\"1\" class=\"dataframe\">\n",
       "  <thead>\n",
       "    <tr style=\"text-align: right;\">\n",
       "      <th></th>\n",
       "      <th>index</th>\n",
       "      <th>0</th>\n",
       "    </tr>\n",
       "  </thead>\n",
       "  <tbody>\n",
       "    <tr>\n",
       "      <th>0</th>\n",
       "      <td>duration</td>\n",
       "      <td>int64</td>\n",
       "    </tr>\n",
       "    <tr>\n",
       "      <th>1</th>\n",
       "      <td>dropoff_x</td>\n",
       "      <td>float64</td>\n",
       "    </tr>\n",
       "    <tr>\n",
       "      <th>2</th>\n",
       "      <td>dropoff_y</td>\n",
       "      <td>float64</td>\n",
       "    </tr>\n",
       "    <tr>\n",
       "      <th>3</th>\n",
       "      <td>dropoff_cluster</td>\n",
       "      <td>object</td>\n",
       "    </tr>\n",
       "    <tr>\n",
       "      <th>4</th>\n",
       "      <td>pickup_x</td>\n",
       "      <td>float64</td>\n",
       "    </tr>\n",
       "    <tr>\n",
       "      <th>5</th>\n",
       "      <td>pickup_y</td>\n",
       "      <td>float64</td>\n",
       "    </tr>\n",
       "    <tr>\n",
       "      <th>6</th>\n",
       "      <td>pickup_cluster</td>\n",
       "      <td>object</td>\n",
       "    </tr>\n",
       "    <tr>\n",
       "      <th>7</th>\n",
       "      <td>pickup_datetime</td>\n",
       "      <td>datetime64[ns]</td>\n",
       "    </tr>\n",
       "    <tr>\n",
       "      <th>8</th>\n",
       "      <td>weekday</td>\n",
       "      <td>object</td>\n",
       "    </tr>\n",
       "    <tr>\n",
       "      <th>9</th>\n",
       "      <td>month</td>\n",
       "      <td>object</td>\n",
       "    </tr>\n",
       "    <tr>\n",
       "      <th>10</th>\n",
       "      <td>weekday_num</td>\n",
       "      <td>object</td>\n",
       "    </tr>\n",
       "    <tr>\n",
       "      <th>11</th>\n",
       "      <td>pickup_hour</td>\n",
       "      <td>object</td>\n",
       "    </tr>\n",
       "  </tbody>\n",
       "</table>\n",
       "</div>"
      ],
      "text/plain": [
       "              index               0\n",
       "0          duration           int64\n",
       "1         dropoff_x         float64\n",
       "2         dropoff_y         float64\n",
       "3   dropoff_cluster          object\n",
       "4          pickup_x         float64\n",
       "5          pickup_y         float64\n",
       "6    pickup_cluster          object\n",
       "7   pickup_datetime  datetime64[ns]\n",
       "8           weekday          object\n",
       "9             month          object\n",
       "10      weekday_num          object\n",
       "11      pickup_hour          object"
      ]
     },
     "execution_count": 75,
     "metadata": {},
     "output_type": "execute_result"
    }
   ],
   "source": [
    "#Check the type of each variable\n",
    "data.dtypes.reset_index()"
   ]
  },
  {
   "cell_type": "code",
   "execution_count": null,
   "metadata": {},
   "outputs": [],
   "source": []
  }
 ],
 "metadata": {
  "kernelspec": {
   "display_name": "Python 3",
   "language": "python",
   "name": "python3"
  },
  "language_info": {
   "codemirror_mode": {
    "name": "ipython",
    "version": 3
   },
   "file_extension": ".py",
   "mimetype": "text/x-python",
   "name": "python",
   "nbconvert_exporter": "python",
   "pygments_lexer": "ipython3",
   "version": "3.7.1"
  }
 },
 "nbformat": 4,
 "nbformat_minor": 2
}
